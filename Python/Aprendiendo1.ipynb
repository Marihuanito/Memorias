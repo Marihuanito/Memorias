{
 "cells": [
  {
   "cell_type": "markdown",
   "id": "c9295b14",
   "metadata": {},
   "source": [
    "# Markdown con almohadilla TITULO\n",
    "\n",
    "## Subtítulo\n",
    "\n",
    "Sobre Markdown hay muchos tutoriales en Youtube\n",
    "\n",
    "Texto normal\n",
    "\n"
   ]
  },
  {
   "cell_type": "markdown",
   "id": "39ee1283",
   "metadata": {},
   "source": [
    "print(\"Hola mundo\")"
   ]
  },
  {
   "cell_type": "code",
   "execution_count": 2,
   "id": "775b1eed",
   "metadata": {},
   "outputs": [],
   "source": [
    "# Ejemplo de índices\n",
    "palabra = \"python\""
   ]
  },
  {
   "cell_type": "code",
   "execution_count": 3,
   "id": "39c9d888",
   "metadata": {},
   "outputs": [
    {
     "data": {
      "text/plain": [
       "'p'"
      ]
     },
     "execution_count": 3,
     "metadata": {},
     "output_type": "execute_result"
    }
   ],
   "source": [
    "palabra[0]"
   ]
  },
  {
   "cell_type": "code",
   "execution_count": 4,
   "id": "96a9b4d0",
   "metadata": {},
   "outputs": [
    {
     "data": {
      "text/plain": [
       "'n'"
      ]
     },
     "execution_count": 4,
     "metadata": {},
     "output_type": "execute_result"
    }
   ],
   "source": [
    "# Índice en negativo\n",
    "palabra[-1]"
   ]
  },
  {
   "cell_type": "code",
   "execution_count": 5,
   "id": "35539cf4",
   "metadata": {},
   "outputs": [
    {
     "data": {
      "text/plain": [
       "'py'"
      ]
     },
     "execution_count": 5,
     "metadata": {},
     "output_type": "execute_result"
    }
   ],
   "source": [
    "palabra[0:2] # Esto se llama slicing"
   ]
  },
  {
   "cell_type": "code",
   "execution_count": 6,
   "id": "6b201aa6",
   "metadata": {},
   "outputs": [
    {
     "data": {
      "text/plain": [
       "'pyt'"
      ]
     },
     "execution_count": 6,
     "metadata": {},
     "output_type": "execute_result"
    }
   ],
   "source": [
    "palabra[:3]"
   ]
  },
  {
   "cell_type": "code",
   "execution_count": 7,
   "id": "bedef6a7",
   "metadata": {},
   "outputs": [
    {
     "data": {
      "text/plain": [
       "'hon'"
      ]
     },
     "execution_count": 7,
     "metadata": {},
     "output_type": "execute_result"
    }
   ],
   "source": [
    "palabra[3:]"
   ]
  },
  {
   "cell_type": "code",
   "execution_count": 8,
   "id": "33be6079",
   "metadata": {},
   "outputs": [
    {
     "ename": "TypeError",
     "evalue": "'str' object does not support item assignment",
     "output_type": "error",
     "traceback": [
      "\u001b[1;31m---------------------------------------------------------------------------\u001b[0m",
      "\u001b[1;31mTypeError\u001b[0m                                 Traceback (most recent call last)",
      "\u001b[1;32m<ipython-input-8-59c3697fa6c2>\u001b[0m in \u001b[0;36m<module>\u001b[1;34m\u001b[0m\n\u001b[1;32m----> 1\u001b[1;33m \u001b[0mpalabra\u001b[0m\u001b[1;33m[\u001b[0m\u001b[1;36m0\u001b[0m\u001b[1;33m]\u001b[0m \u001b[1;33m=\u001b[0m \u001b[1;34m\"N\"\u001b[0m\u001b[1;33m\u001b[0m\u001b[1;33m\u001b[0m\u001b[0m\n\u001b[0m",
      "\u001b[1;31mTypeError\u001b[0m: 'str' object does not support item assignment"
     ]
    }
   ],
   "source": [
    "palabra[0] = \"N\""
   ]
  },
  {
   "cell_type": "code",
   "execution_count": 10,
   "id": "0a1f0f33",
   "metadata": {},
   "outputs": [
    {
     "data": {
      "text/plain": [
       "'Nython'"
      ]
     },
     "execution_count": 10,
     "metadata": {},
     "output_type": "execute_result"
    }
   ],
   "source": [
    "palabra = \"N\" + palabra[1:]\n",
    "palabra"
   ]
  },
  {
   "cell_type": "code",
   "execution_count": null,
   "id": "63807fc7",
   "metadata": {},
   "outputs": [],
   "source": [
    "len(palabra) #Longitud"
   ]
  },
  {
   "cell_type": "markdown",
   "id": "6919982e",
   "metadata": {},
   "source": [
    "## Modificación en lista con slicing"
   ]
  },
  {
   "cell_type": "code",
   "execution_count": 18,
   "id": "30339cbc",
   "metadata": {},
   "outputs": [],
   "source": [
    "letras = ['a','b','c','d','e','f']"
   ]
  },
  {
   "cell_type": "code",
   "execution_count": 19,
   "id": "e4987bc4",
   "metadata": {},
   "outputs": [
    {
     "data": {
      "text/plain": [
       "['A', 'B', 'C', 'd', 'e', 'f']"
      ]
     },
     "execution_count": 19,
     "metadata": {},
     "output_type": "execute_result"
    }
   ],
   "source": [
    "letras[:3] = ['A','B','C']\n",
    "letras"
   ]
  },
  {
   "cell_type": "code",
   "execution_count": 21,
   "id": "7e89e833",
   "metadata": {},
   "outputs": [
    {
     "data": {
      "text/plain": [
       "['d', 'e', 'f']"
      ]
     },
     "execution_count": 21,
     "metadata": {},
     "output_type": "execute_result"
    }
   ],
   "source": [
    "letras[:3] = []\n",
    "letras"
   ]
  },
  {
   "cell_type": "markdown",
   "id": "7e519330",
   "metadata": {},
   "source": [
    "## Lista de listas (Matriz)"
   ]
  },
  {
   "cell_type": "code",
   "execution_count": 22,
   "id": "1c420590",
   "metadata": {},
   "outputs": [
    {
     "data": {
      "text/plain": [
       "[['1', '2', '3'], ['4', '5', '6'], ['7', '8', '9']]"
      ]
     },
     "execution_count": 22,
     "metadata": {},
     "output_type": "execute_result"
    }
   ],
   "source": [
    "a = ['1','2','3']\n",
    "b = ['4','5','6']\n",
    "c = ['7','8','9']\n",
    "r = [a,b,c]\n",
    "r"
   ]
  },
  {
   "cell_type": "code",
   "execution_count": 23,
   "id": "22db1f10",
   "metadata": {},
   "outputs": [
    {
     "data": {
      "text/plain": [
       "'1'"
      ]
     },
     "execution_count": 23,
     "metadata": {},
     "output_type": "execute_result"
    }
   ],
   "source": [
    "# Para acceder a un elemento de una de las listas\n",
    "r[0][0]"
   ]
  },
  {
   "cell_type": "markdown",
   "id": "fdd978a1",
   "metadata": {},
   "source": [
    "## Introducir un string desde teclado y guardarlo en variable"
   ]
  },
  {
   "cell_type": "code",
   "execution_count": 24,
   "id": "818ef2cf",
   "metadata": {},
   "outputs": [
    {
     "name": "stdout",
     "output_type": "stream",
     "text": [
      "Introduce un valor:pepe\n"
     ]
    }
   ],
   "source": [
    "valor = input(\"Introduce un valor:\")"
   ]
  },
  {
   "cell_type": "code",
   "execution_count": 25,
   "id": "3ebc98b1",
   "metadata": {},
   "outputs": [
    {
     "data": {
      "text/plain": [
       "'pepe'"
      ]
     },
     "execution_count": 25,
     "metadata": {},
     "output_type": "execute_result"
    }
   ],
   "source": [
    "valor"
   ]
  },
  {
   "cell_type": "markdown",
   "id": "8007d797",
   "metadata": {},
   "source": [
    "## Operandos"
   ]
  },
  {
   "cell_type": "code",
   "execution_count": 2,
   "id": "fa41cbd1",
   "metadata": {},
   "outputs": [
    {
     "data": {
      "text/plain": [
       "True"
      ]
     },
     "execution_count": 2,
     "metadata": {},
     "output_type": "execute_result"
    }
   ],
   "source": [
    "# Distinto de\n",
    "3 != 2"
   ]
  },
  {
   "cell_type": "code",
   "execution_count": 3,
   "id": "00eb5198",
   "metadata": {},
   "outputs": [
    {
     "data": {
      "text/plain": [
       "True"
      ]
     },
     "execution_count": 3,
     "metadata": {},
     "output_type": "execute_result"
    }
   ],
   "source": [
    "True and True"
   ]
  },
  {
   "cell_type": "code",
   "execution_count": 4,
   "id": "82cd331e",
   "metadata": {},
   "outputs": [
    {
     "data": {
      "text/plain": [
       "True"
      ]
     },
     "execution_count": 4,
     "metadata": {},
     "output_type": "execute_result"
    }
   ],
   "source": [
    "True or True"
   ]
  },
  {
   "cell_type": "markdown",
   "id": "a04ab5dd",
   "metadata": {},
   "source": [
    "## Asignación (incrementales etc)"
   ]
  },
  {
   "cell_type": "code",
   "execution_count": 6,
   "id": "92918bb7",
   "metadata": {},
   "outputs": [
    {
     "data": {
      "text/plain": [
       "6"
      ]
     },
     "execution_count": 6,
     "metadata": {},
     "output_type": "execute_result"
    }
   ],
   "source": [
    "a = 5\n",
    "a += 1\n",
    "a"
   ]
  },
  {
   "cell_type": "code",
   "execution_count": 7,
   "id": "edd3feff",
   "metadata": {},
   "outputs": [
    {
     "data": {
      "text/plain": [
       "20"
      ]
     },
     "execution_count": 7,
     "metadata": {},
     "output_type": "execute_result"
    }
   ],
   "source": [
    "a = 10\n",
    "a *= 2\n",
    "a"
   ]
  },
  {
   "cell_type": "code",
   "execution_count": 9,
   "id": "d98b92ab",
   "metadata": {},
   "outputs": [
    {
     "data": {
      "text/plain": [
       "0"
      ]
     },
     "execution_count": 9,
     "metadata": {},
     "output_type": "execute_result"
    }
   ],
   "source": [
    "a = 6\n",
    "a %= 2 # módulo de asignación, para saber si es par. Si da 0 es que es par\n",
    "a"
   ]
  },
  {
   "cell_type": "markdown",
   "id": "86650424",
   "metadata": {},
   "source": [
    "## Tuplas (listas inmutables)"
   ]
  },
  {
   "cell_type": "code",
   "execution_count": 10,
   "id": "e949bf13",
   "metadata": {},
   "outputs": [
    {
     "data": {
      "text/plain": [
       "(100, 20, 'Pepe')"
      ]
     },
     "execution_count": 10,
     "metadata": {},
     "output_type": "execute_result"
    }
   ],
   "source": [
    "tupla = (100,20,\"Pepe\")\n",
    "tupla"
   ]
  },
  {
   "cell_type": "markdown",
   "id": "1f44f63e",
   "metadata": {},
   "source": [
    "## Conjuntos (esto es nuevo)"
   ]
  },
  {
   "cell_type": "code",
   "execution_count": 11,
   "id": "bb8cbe54",
   "metadata": {},
   "outputs": [
    {
     "data": {
      "text/plain": [
       "set()"
      ]
     },
     "execution_count": 11,
     "metadata": {},
     "output_type": "execute_result"
    }
   ],
   "source": [
    "conjunto = set() # Crear conjunto vacío\n",
    "conjunto"
   ]
  },
  {
   "cell_type": "code",
   "execution_count": 12,
   "id": "aa8e0c41",
   "metadata": {},
   "outputs": [
    {
     "data": {
      "text/plain": [
       "{1, 2, 3}"
      ]
     },
     "execution_count": 12,
     "metadata": {},
     "output_type": "execute_result"
    }
   ],
   "source": [
    "conjunto = {1,2,3} # Crear conjunto con elementos\n",
    "conjunto"
   ]
  },
  {
   "cell_type": "code",
   "execution_count": 13,
   "id": "f8bbd288",
   "metadata": {},
   "outputs": [
    {
     "data": {
      "text/plain": [
       "{1, 2, 3, 4}"
      ]
     },
     "execution_count": 13,
     "metadata": {},
     "output_type": "execute_result"
    }
   ],
   "source": [
    "conjunto.add(4)\n",
    "conjunto"
   ]
  },
  {
   "cell_type": "code",
   "execution_count": 14,
   "id": "aade2332",
   "metadata": {},
   "outputs": [
    {
     "data": {
      "text/plain": [
       "{0, 1, 2, 3, 4}"
      ]
     },
     "execution_count": 14,
     "metadata": {},
     "output_type": "execute_result"
    }
   ],
   "source": [
    "conjunto.add(0) # Si añadimos algo, en un conjunto, no necesariamente va \n",
    "                # a ponerlo al final del conjunto, lo ordena el internamente\n",
    "conjunto"
   ]
  },
  {
   "cell_type": "code",
   "execution_count": 21,
   "id": "e54f7028",
   "metadata": {},
   "outputs": [
    {
     "data": {
      "text/plain": [
       "{'Hector'}"
      ]
     },
     "execution_count": 21,
     "metadata": {},
     "output_type": "execute_result"
    }
   ],
   "source": [
    "# Una característica del conjunto es que elimina valores repetidos.\n",
    "conjunto = {\"Hector\", \"Hector\"}\n",
    "conjunto"
   ]
  },
  {
   "cell_type": "code",
   "execution_count": 16,
   "id": "79b2cced",
   "metadata": {},
   "outputs": [
    {
     "data": {
      "text/plain": [
       "{1, 2, 3}"
      ]
     },
     "execution_count": 16,
     "metadata": {},
     "output_type": "execute_result"
    }
   ],
   "source": [
    "lista = [1,2,3,3,2,1]\n",
    "conjunto = set(lista)\n",
    "conjunto"
   ]
  },
  {
   "cell_type": "code",
   "execution_count": 17,
   "id": "d329dcda",
   "metadata": {},
   "outputs": [
    {
     "data": {
      "text/plain": [
       "True"
      ]
     },
     "execution_count": 17,
     "metadata": {},
     "output_type": "execute_result"
    }
   ],
   "source": [
    "1 in conjunto"
   ]
  },
  {
   "cell_type": "code",
   "execution_count": 2,
   "id": "6582fb65",
   "metadata": {},
   "outputs": [
    {
     "ename": "NameError",
     "evalue": "name 'conjunto' is not defined",
     "output_type": "error",
     "traceback": [
      "\u001b[1;31m---------------------------------------------------------------------------\u001b[0m",
      "\u001b[1;31mNameError\u001b[0m                                 Traceback (most recent call last)",
      "\u001b[1;32m<ipython-input-2-08a3a849799b>\u001b[0m in \u001b[0;36m<module>\u001b[1;34m\u001b[0m\n\u001b[1;32m----> 1\u001b[1;33m \u001b[1;36m1\u001b[0m \u001b[1;32mnot\u001b[0m \u001b[1;32min\u001b[0m \u001b[0mconjunto\u001b[0m\u001b[1;33m\u001b[0m\u001b[1;33m\u001b[0m\u001b[0m\n\u001b[0m",
      "\u001b[1;31mNameError\u001b[0m: name 'conjunto' is not defined"
     ]
    }
   ],
   "source": [
    "1 not in conjunto\n",
    "\n",
    "#si tienes 2 conjuntos y ejecutas este comando print(conjunto1 & conjuto2) nos devuelve los numeros repetidos."
   ]
  },
  {
   "cell_type": "markdown",
   "id": "f3ae0a96",
   "metadata": {},
   "source": [
    "## Diccionario (tienen clave única)"
   ]
  },
  {
   "cell_type": "code",
   "execution_count": 22,
   "id": "50399bf4",
   "metadata": {},
   "outputs": [
    {
     "data": {
      "text/plain": [
       "{'amarillo': 'yellow', 'azul': 'blue', 'verde': 'green'}"
      ]
     },
     "execution_count": 22,
     "metadata": {},
     "output_type": "execute_result"
    }
   ],
   "source": [
    "colores = {'amarillo':'yellow','azul':'blue','verde':'green'}\n",
    "colores #el diccionario tambiés es desordenado, como el conjunto"
   ]
  },
  {
   "cell_type": "code",
   "execution_count": 23,
   "id": "ffdbd360",
   "metadata": {},
   "outputs": [
    {
     "data": {
      "text/plain": [
       "'blue'"
      ]
     },
     "execution_count": 23,
     "metadata": {},
     "output_type": "execute_result"
    }
   ],
   "source": [
    "#accedemos al diccionario con la clave\n",
    "colores['azul']"
   ]
  },
  {
   "cell_type": "code",
   "execution_count": 25,
   "id": "b1408e8a",
   "metadata": {},
   "outputs": [
    {
     "data": {
      "text/plain": [
       "{'amarillo': 'yellow', 'azul': 'Blues', 'verde': 'green'}"
      ]
     },
     "execution_count": 25,
     "metadata": {},
     "output_type": "execute_result"
    }
   ],
   "source": [
    "#modificar registro de diccionario\n",
    "colores['azul'] = 'Blues'\n",
    "colores"
   ]
  },
  {
   "cell_type": "code",
   "execution_count": 26,
   "id": "4b76c8e7",
   "metadata": {},
   "outputs": [
    {
     "data": {
      "text/plain": [
       "{'amarillo': 'yellow', 'verde': 'green'}"
      ]
     },
     "execution_count": 26,
     "metadata": {},
     "output_type": "execute_result"
    }
   ],
   "source": [
    "#borrar valor\n",
    "del(colores['azul'])\n",
    "colores"
   ]
  },
  {
   "cell_type": "code",
   "execution_count": 27,
   "id": "e4c5d5c3",
   "metadata": {},
   "outputs": [
    {
     "data": {
      "text/plain": [
       "[{'Nombre': 'Gandalf', 'Clase': 'Mago', 'Raza': 'Humano'},\n",
       " {'Nombre': 'Legolas', 'Clase': 'Arquerp', 'Raza': 'Elfo'},\n",
       " {'Nombre': 'Gimli', 'Clase': 'Guerrero', 'Raza': 'Enano'}]"
      ]
     },
     "execution_count": 27,
     "metadata": {},
     "output_type": "execute_result"
    }
   ],
   "source": [
    "#Se suelen combinar listas y diccionarios, por ejemplo al hacer un 'juego'\n",
    "personajes = []\n",
    "p = {'Nombre':'Gandalf','Clase':'Mago','Raza':'Humano'}\n",
    "q = {'Nombre':'Legolas','Clase':'Arquerp','Raza':'Elfo'}\n",
    "r = {'Nombre':'Gimli','Clase':'Guerrero','Raza':'Enano'}\n",
    "personajes.append(p)\n",
    "personajes.append(q)\n",
    "personajes.append(r)\n",
    "personajes"
   ]
  },
  {
   "cell_type": "code",
   "execution_count": 28,
   "id": "76e27558",
   "metadata": {},
   "outputs": [
    {
     "name": "stdout",
     "output_type": "stream",
     "text": [
      "Gandalf Mago Humano\n",
      "Legolas Arquerp Elfo\n",
      "Gimli Guerrero Enano\n"
     ]
    }
   ],
   "source": [
    "for i in personajes:\n",
    "    print(i['Nombre'],i['Clase'],i['Raza'])"
   ]
  },
  {
   "cell_type": "code",
   "execution_count": 31,
   "id": "5c28202c",
   "metadata": {},
   "outputs": [
    {
     "data": {
      "text/plain": [
       "['Maria', 'Pepe', 'Juan']"
      ]
     },
     "execution_count": 31,
     "metadata": {},
     "output_type": "execute_result"
    }
   ],
   "source": [
    "lista = ['Maria','Pepe','Juan','Ramón']\n",
    "lista.pop() # el pop elimina el ultimo elemento (LIFO)\n",
    "lista"
   ]
  },
  {
   "cell_type": "code",
   "execution_count": 33,
   "id": "05eae612",
   "metadata": {},
   "outputs": [
    {
     "data": {
      "text/plain": [
       "deque([])"
      ]
     },
     "execution_count": 33,
     "metadata": {},
     "output_type": "execute_result"
    }
   ],
   "source": [
    "#Para eliminar el primer elemento (FIFO) es necesario crear una cola\n",
    "#Para crear la cola hay que importar deque\n",
    "from collections import deque\n",
    "cola = deque() #Cola vacía\n",
    "cola"
   ]
  },
  {
   "cell_type": "code",
   "execution_count": 34,
   "id": "9c7254dc",
   "metadata": {},
   "outputs": [
    {
     "data": {
      "text/plain": [
       "deque(['Hector', 'Juan', 'Miguel', 'Pepe'])"
      ]
     },
     "execution_count": 34,
     "metadata": {},
     "output_type": "execute_result"
    }
   ],
   "source": [
    "cola = deque(['Hector','Juan','Miguel'])\n",
    "cola.append(\"Pepe\")\n",
    "cola"
   ]
  },
  {
   "cell_type": "code",
   "execution_count": 35,
   "id": "282729b1",
   "metadata": {},
   "outputs": [
    {
     "data": {
      "text/plain": [
       "deque(['Juan', 'Miguel', 'Pepe'])"
      ]
     },
     "execution_count": 35,
     "metadata": {},
     "output_type": "execute_result"
    }
   ],
   "source": [
    "cola.popleft()\n",
    "cola"
   ]
  },
  {
   "cell_type": "markdown",
   "id": "45863640",
   "metadata": {},
   "source": [
    "## Una forma de printar unos valores más profesional"
   ]
  },
  {
   "cell_type": "code",
   "execution_count": 1,
   "id": "25882077",
   "metadata": {},
   "outputs": [
    {
     "data": {
      "text/plain": [
       "'Un texto texto y un número 10'"
      ]
     },
     "execution_count": 1,
     "metadata": {},
     "output_type": "execute_result"
    }
   ],
   "source": [
    "texto = \"texto\"\n",
    "n = 10\n",
    "c = \"Un texto {} y un número {}\".format(texto,n)\n",
    "c"
   ]
  },
  {
   "cell_type": "code",
   "execution_count": 3,
   "id": "ed1249ae",
   "metadata": {},
   "outputs": [
    {
     "data": {
      "text/plain": [
       "\"Un texto 'texto' y un número '10'\""
      ]
     },
     "execution_count": 3,
     "metadata": {},
     "output_type": "execute_result"
    }
   ],
   "source": [
    "c = \"Un texto '{}' y un número '{}'\".format(texto,n) #Con esto es más fácil su gestión\n",
    "c"
   ]
  },
  {
   "cell_type": "code",
   "execution_count": 4,
   "id": "393c7538",
   "metadata": {},
   "outputs": [
    {
     "data": {
      "text/plain": [
       "\"Un texto '10' y un número 'texto'\""
      ]
     },
     "execution_count": 4,
     "metadata": {},
     "output_type": "execute_result"
    }
   ],
   "source": [
    "#Hay dos variantes que se pueden usar con este formato\n",
    "c = \"Un texto '{1}' y un número '{0}'\".format(texto,n) #Donde cero sería el primer valor, uno el segundo, etc...\n",
    "c"
   ]
  },
  {
   "cell_type": "code",
   "execution_count": 5,
   "id": "a626b5af",
   "metadata": {},
   "outputs": [
    {
     "data": {
      "text/plain": [
       "\"Un texto 'texto' y un número '10'\""
      ]
     },
     "execution_count": 5,
     "metadata": {},
     "output_type": "execute_result"
    }
   ],
   "source": [
    "c = \"Un texto '{t}' y un número '{num}'\".format(t=texto,num=n) #Parecido a un diccionario\n",
    "c"
   ]
  },
  {
   "cell_type": "code",
   "execution_count": 6,
   "id": "087c8276",
   "metadata": {},
   "outputs": [
    {
     "name": "stdout",
     "output_type": "stream",
     "text": [
      "                       palabra\n"
     ]
    }
   ],
   "source": [
    "print (\"{:>30}\".format(\"palabra\")) #alineo a la derecha con 30 caracteres, crea espacios a la izq."
   ]
  },
  {
   "cell_type": "code",
   "execution_count": 7,
   "id": "7ba320be",
   "metadata": {},
   "outputs": [
    {
     "name": "stdout",
     "output_type": "stream",
     "text": [
      "palabra                       \n"
     ]
    }
   ],
   "source": [
    "print (\"{:30}\".format(\"palabra\")) #alineo a la izq con 30 caracteres, crea espacios a la derecha."
   ]
  },
  {
   "cell_type": "code",
   "execution_count": 8,
   "id": "2a078f9b",
   "metadata": {},
   "outputs": [
    {
     "name": "stdout",
     "output_type": "stream",
     "text": [
      "           palabra            \n"
     ]
    }
   ],
   "source": [
    "print (\"{:^30}\".format(\"palabra\")) #alineo al centro con 30 caracteres, crea espacios a izq y drcha."
   ]
  },
  {
   "cell_type": "code",
   "execution_count": 9,
   "id": "cb0959d0",
   "metadata": {},
   "outputs": [
    {
     "name": "stdout",
     "output_type": "stream",
     "text": [
      "pal\n"
     ]
    }
   ],
   "source": [
    "print (\"{:.3}\".format(\"palabra\")) #Mostrar sólo 3 carácteres"
   ]
  },
  {
   "cell_type": "code",
   "execution_count": 10,
   "id": "2aea1fdc",
   "metadata": {},
   "outputs": [
    {
     "name": "stdout",
     "output_type": "stream",
     "text": [
      "                           pal\n"
     ]
    }
   ],
   "source": [
    "print (\"{:>30.3}\".format(\"palabra\")) #alineo a la derecha con 30 caracteres + truncamiento a 3 caracteres"
   ]
  },
  {
   "cell_type": "code",
   "execution_count": 11,
   "id": "a88fb310",
   "metadata": {},
   "outputs": [
    {
     "name": "stdout",
     "output_type": "stream",
     "text": [
      "  10\n",
      " 100\n",
      "1000\n"
     ]
    }
   ],
   "source": [
    "#Formateo de números enteros alineados a la derecha, rellenado con espacios\n",
    "print (\"{:4d}\".format(10))\n",
    "print (\"{:4d}\".format(100))\n",
    "print (\"{:4d}\".format(1000))"
   ]
  },
  {
   "cell_type": "code",
   "execution_count": 12,
   "id": "4f449bf5",
   "metadata": {},
   "outputs": [
    {
     "name": "stdout",
     "output_type": "stream",
     "text": [
      "0010\n",
      "0100\n",
      "1000\n"
     ]
    }
   ],
   "source": [
    "#Formateo de números enteros alineados a la derecha, rellenado con ceros\n",
    "print (\"{:04d}\".format(10))\n",
    "print (\"{:04d}\".format(100))\n",
    "print (\"{:04d}\".format(1000))"
   ]
  },
  {
   "cell_type": "code",
   "execution_count": 18,
   "id": "baff4546",
   "metadata": {},
   "outputs": [
    {
     "name": "stdout",
     "output_type": "stream",
     "text": [
      "3.142\n",
      "354.150\n",
      "56.788\n"
     ]
    }
   ],
   "source": [
    "#Formateo de números flotantes, a 3 decimales\n",
    "print (\"{:.3f}\".format(3.141642)) \n",
    "print (\"{:.3f}\".format(354.15))\n",
    "print (\"{:.3f}\".format(56.7878))"
   ]
  },
  {
   "cell_type": "code",
   "execution_count": 19,
   "id": "c139a5d0",
   "metadata": {},
   "outputs": [
    {
     "name": "stdout",
     "output_type": "stream",
     "text": [
      "  3.142\n",
      "354.150\n",
      " 56.788\n"
     ]
    }
   ],
   "source": [
    "#Formateo de números flotantes alineados a la derecha, rellenado con espacios\n",
    "print (\"{:7.3f}\".format(3.141642)) #el 7 es el total de caracteres, y el 3f son los decimales a mostrar\n",
    "print (\"{:7.3f}\".format(354.15))\n",
    "print (\"{:7.3f}\".format(56.7878))"
   ]
  },
  {
   "cell_type": "markdown",
   "id": "81b17031",
   "metadata": {},
   "source": [
    "desde Python 3.6 hay una funcionalidad que permite simplificar las cadenas formateadas. En lugar de poner esto:\n",
    "\n",
    "nombre = \"Héctor\"\n",
    "cadena = \"Hola {}\".format(nombre)\n",
    "Podemos indicar que la cadena está formateada añadiendo f delante y pasando directamente las variables o datos interpretados:\n",
    "\n",
    "nombre = \"Héctor\"\n",
    "cadena = f\"Hola {nombre}\"\n",
    "Como véis es muy útil y permite ahorrarnos algo de código."
   ]
  },
  {
   "cell_type": "markdown",
   "id": "d2f92ed3",
   "metadata": {},
   "source": [
    "## Funciones, cosas interesantes"
   ]
  },
  {
   "cell_type": "code",
   "execution_count": 1,
   "id": "568f84bd",
   "metadata": {},
   "outputs": [],
   "source": [
    "def funcion(a=None,b=None): #Al pasar parámetros podemos asignarle valores por defecto para el caso de que no le lleguen valores\n",
    "    print(\"función\")"
   ]
  },
  {
   "cell_type": "code",
   "execution_count": 2,
   "id": "b32572d4",
   "metadata": {},
   "outputs": [
    {
     "name": "stdout",
     "output_type": "stream",
     "text": [
      "(1, 'hola', [1, 2, 3, 4])\n"
     ]
    }
   ],
   "source": [
    "#Para pasar parámetros indeterminados, es decir, que no sabemos ni cuantos ni de que tipo son.\n",
    "#Tendremos como resultado una tupla\n",
    "def funcion(*args):\n",
    "    print(args)\n",
    "\n",
    "funcion(1,\"hola\",[1,2,3,4])"
   ]
  },
  {
   "cell_type": "code",
   "execution_count": 3,
   "id": "36246ec8",
   "metadata": {},
   "outputs": [
    {
     "name": "stdout",
     "output_type": "stream",
     "text": [
      "{'n': 1, 'c': 'hola', 'l': [1, 2, 3, 4]}\n"
     ]
    }
   ],
   "source": [
    "#Si queremos como resultado un diccionario\n",
    "def funcion(**kwargs):\n",
    "    print(kwargs)\n",
    "\n",
    "funcion(n=1,c=\"hola\",l=[1,2,3,4])"
   ]
  },
  {
   "cell_type": "markdown",
   "id": "e3bbbad7",
   "metadata": {},
   "source": [
    "### Función recursiva: esto es una movida."
   ]
  },
  {
   "cell_type": "markdown",
   "id": "065460a7",
   "metadata": {},
   "source": [
    "## Excepciones"
   ]
  },
  {
   "cell_type": "code",
   "execution_count": 4,
   "id": "f9710025",
   "metadata": {},
   "outputs": [
    {
     "name": "stdout",
     "output_type": "stream",
     "text": [
      "Introduce un númeroaa\n",
      "Ha ocurrido un error, introduce bien el número\n",
      "Fin de la iteración\n",
      "Introduce un número5\n",
      "5.0/4=1.25\n",
      "Todo ha funcionado correctamente\n",
      "Fin de la iteración\n"
     ]
    }
   ],
   "source": [
    "while(True):\n",
    "    try:\n",
    "        n = float(input(\"Introduce un número\"))\n",
    "        m = 4\n",
    "        print(\"{}/{}={}\".format(n,m,n/m))\n",
    "    except: #Define código en caso de error\n",
    "        print(\"Ha ocurrido un error, introduce bien el número\")\n",
    "    else: #Código si no ocurre ningún error\n",
    "        print(\"Todo ha funcionado correctamente\")\n",
    "        break #Este break sirve para salir de la iteración, se podría poner en el try, pero mejor ponerlo aquí.\n",
    "    finally: #Código final, indiferente de si hay o no un error.\n",
    "        print(\"Fin de la iteración\")"
   ]
  },
  {
   "cell_type": "code",
   "execution_count": 6,
   "id": "57aa028b",
   "metadata": {},
   "outputs": [
    {
     "name": "stdout",
     "output_type": "stream",
     "text": [
      "introduce un númeroaa\n",
      "Debes introducir el número\n"
     ]
    }
   ],
   "source": [
    "\n",
    "try:\n",
    "    n = float(input(\"introduce un número\"))\n",
    "    5/n\n",
    "    \n",
    "except TypeError:\n",
    "    print(\"No se puede dividir el número entre una cadena\")\n",
    "except ValueError:\n",
    "    print(\"Debes introducir el número\")\n",
    "except ZeroDivisionError: # 2- Según el nombre que nos de el error, iremos a la exepción pertinente y se ejecutará el código que hay en ella.\n",
    "    print(\"No puedes dividir entre cero\")\n",
    "except Exception as e: # 1- Si hay fallo lo primero que hace es ir aquí, capturamos la excepción en la variable e, y guardamos su valor\n",
    "    #en caso de división por cero nos daría un error de tipo ZeroDivisionError por ejemplo\n",
    "    print(type(e).__name__)"
   ]
  },
  {
   "cell_type": "code",
   "execution_count": 8,
   "id": "2630cbd5",
   "metadata": {},
   "outputs": [
    {
     "ename": "ValueError",
     "evalue": "Error, no se permite un valor nulo",
     "output_type": "error",
     "traceback": [
      "\u001b[1;31m---------------------------------------------------------------------------\u001b[0m",
      "\u001b[1;31mValueError\u001b[0m                                Traceback (most recent call last)",
      "\u001b[1;32m<ipython-input-8-e81140433788>\u001b[0m in \u001b[0;36m<module>\u001b[1;34m\u001b[0m\n\u001b[0;32m      4\u001b[0m         \u001b[1;32mraise\u001b[0m \u001b[0mValueError\u001b[0m\u001b[1;33m(\u001b[0m\u001b[1;34m\"Error, no se permite un valor nulo\"\u001b[0m\u001b[1;33m)\u001b[0m\u001b[1;33m\u001b[0m\u001b[1;33m\u001b[0m\u001b[0m\n\u001b[0;32m      5\u001b[0m \u001b[1;33m\u001b[0m\u001b[0m\n\u001b[1;32m----> 6\u001b[1;33m \u001b[0mfuncion\u001b[0m\u001b[1;33m(\u001b[0m\u001b[1;33m)\u001b[0m\u001b[1;33m\u001b[0m\u001b[1;33m\u001b[0m\u001b[0m\n\u001b[0m",
      "\u001b[1;32m<ipython-input-8-e81140433788>\u001b[0m in \u001b[0;36mfuncion\u001b[1;34m(algo)\u001b[0m\n\u001b[0;32m      2\u001b[0m \u001b[1;32mdef\u001b[0m \u001b[0mfuncion\u001b[0m\u001b[1;33m(\u001b[0m\u001b[0malgo\u001b[0m\u001b[1;33m=\u001b[0m\u001b[1;32mNone\u001b[0m\u001b[1;33m)\u001b[0m\u001b[1;33m:\u001b[0m\u001b[1;33m\u001b[0m\u001b[1;33m\u001b[0m\u001b[0m\n\u001b[0;32m      3\u001b[0m     \u001b[1;32mif\u001b[0m \u001b[0malgo\u001b[0m \u001b[1;32mis\u001b[0m \u001b[1;32mNone\u001b[0m\u001b[1;33m:\u001b[0m\u001b[1;33m\u001b[0m\u001b[1;33m\u001b[0m\u001b[0m\n\u001b[1;32m----> 4\u001b[1;33m         \u001b[1;32mraise\u001b[0m \u001b[0mValueError\u001b[0m\u001b[1;33m(\u001b[0m\u001b[1;34m\"Error, no se permite un valor nulo\"\u001b[0m\u001b[1;33m)\u001b[0m\u001b[1;33m\u001b[0m\u001b[1;33m\u001b[0m\u001b[0m\n\u001b[0m\u001b[0;32m      5\u001b[0m \u001b[1;33m\u001b[0m\u001b[0m\n\u001b[0;32m      6\u001b[0m \u001b[0mfuncion\u001b[0m\u001b[1;33m(\u001b[0m\u001b[1;33m)\u001b[0m\u001b[1;33m\u001b[0m\u001b[1;33m\u001b[0m\u001b[0m\n",
      "\u001b[1;31mValueError\u001b[0m: Error, no se permite un valor nulo"
     ]
    }
   ],
   "source": [
    "# Crear tu excepción, decirle tú que nombre de excepción ha de tener.\n",
    "def funcion(algo=None):\n",
    "    if algo is None:\n",
    "        raise ValueError(\"Error, no se permite un valor nulo\")\n",
    "\n",
    "funcion()"
   ]
  },
  {
   "cell_type": "code",
   "execution_count": 9,
   "id": "f2a2bf12",
   "metadata": {},
   "outputs": [
    {
     "name": "stdout",
     "output_type": "stream",
     "text": [
      "Error desde la excepción capturada\n"
     ]
    }
   ],
   "source": [
    "# posteriormente capturaríamos el error\n",
    "def funcion(algo=None):\n",
    "    try:\n",
    "        if algo is None:\n",
    "            raise ValueError(\"Error, no se permite un valor nulo\")\n",
    "    except ValueError:\n",
    "        print(\"Error desde la excepción capturada\")\n",
    "\n",
    "funcion()"
   ]
  },
  {
   "cell_type": "markdown",
   "id": "32aab6de",
   "metadata": {},
   "source": [
    "## Clases y objetos"
   ]
  },
  {
   "cell_type": "code",
   "execution_count": 1,
   "id": "431d88c4",
   "metadata": {},
   "outputs": [],
   "source": [
    "class Galleta: # la clase es un molde que crea objetos, va la primera con mayúscula\n",
    "    pass\n"
   ]
  },
  {
   "cell_type": "code",
   "execution_count": 4,
   "id": "584be748",
   "metadata": {},
   "outputs": [
    {
     "name": "stdout",
     "output_type": "stream",
     "text": [
      "Se ha creado una galleta\n"
     ]
    }
   ],
   "source": [
    "class Galleta():\n",
    "    chocolate = False\n",
    "    def __init__(self): # Función especial para realizar una acción al crear un objeto de esta clase.\n",
    "        #El self nos sirve para agregar un valor al atributo, por ejemplo al chocolate self.chocolate = True\n",
    "        print(\"Se ha creado una galleta\")\n",
    "g = Galleta()"
   ]
  },
  {
   "cell_type": "markdown",
   "id": "1e8b2f56",
   "metadata": {},
   "source": [
    "## Métodos especiales dentro de una clase"
   ]
  },
  {
   "cell_type": "code",
   "execution_count": 3,
   "id": "9ddc3166",
   "metadata": {},
   "outputs": [
    {
     "name": "stdout",
     "output_type": "stream",
     "text": [
      "se ha creado la pelicula  El padrino\n",
      "se ha borrado la pelicula El padrino\n"
     ]
    }
   ],
   "source": [
    "class Pelicula:\n",
    "    #Constructor de clases\n",
    "    def __init__(self, titulo,duracion,lanzamiento):\n",
    "        self.titulo = titulo\n",
    "        self.duracion = duracion\n",
    "        self.lanzamiento = lanzamiento\n",
    "        print (\"se ha creado la pelicula \", self.titulo)\n",
    "    #Destructor de clases\n",
    "    def __del__(self):\n",
    "        print(\"se ha borrado la pelicula\", self.titulo)\n",
    "\n",
    "p = Pelicula(\"El padrino\",175,1972)\n",
    "del(p)"
   ]
  },
  {
   "cell_type": "code",
   "execution_count": 4,
   "id": "22fcb416",
   "metadata": {},
   "outputs": [
    {
     "data": {
      "text/plain": [
       "'10'"
      ]
     },
     "execution_count": 4,
     "metadata": {},
     "output_type": "execute_result"
    }
   ],
   "source": [
    "# Si tu defines algo como string, este lo que hace es pasar a cadena lo que le pases. ejemplo\n",
    "str(10)"
   ]
  },
  {
   "cell_type": "code",
   "execution_count": 6,
   "id": "23d999c5",
   "metadata": {},
   "outputs": [
    {
     "name": "stdout",
     "output_type": "stream",
     "text": [
      "se ha creado la pelicula  El padrino\n"
     ]
    },
    {
     "data": {
      "text/plain": [
       "'<__main__.Pelicula object at 0x000002E876916BE0>'"
      ]
     },
     "execution_count": 6,
     "metadata": {},
     "output_type": "execute_result"
    }
   ],
   "source": [
    "#Si tu defines la clase como string, que pasa?\n",
    "p = Pelicula(\"El padrino\",175,1972)\n",
    "str(p)\n",
    "# te dice que viene dada por una clase Pelicula y que se guarda en una posicion de memoria"
   ]
  },
  {
   "cell_type": "code",
   "execution_count": 9,
   "id": "37d0c965",
   "metadata": {},
   "outputs": [
    {
     "name": "stdout",
     "output_type": "stream",
     "text": [
      "se ha creado la pelicula  El padrino\n",
      "se ha borrado la pelicula El padrino\n"
     ]
    }
   ],
   "source": [
    "class Pelicula:\n",
    "    #Constructor de clases\n",
    "    def __init__(self, titulo,duracion,lanzamiento):\n",
    "        self.titulo = titulo\n",
    "        self.duracion = duracion\n",
    "        self.lanzamiento = lanzamiento\n",
    "        print (\"se ha creado la pelicula \", self.titulo)\n",
    "    #Destructor de clases\n",
    "    def __del__(self):\n",
    "        print(\"se ha borrado la pelicula\", self.titulo)\n",
    "    #Podemos redefinir el método string dentro de la clase\n",
    "    def __str__(self):\n",
    "        return \"{}, lanzada en {} con una duración de {}\".format(self.titulo,self.lanzamiento,self.duracion)\n",
    "        \n",
    "p = Pelicula(\"El padrino\",175,1972)\n"
   ]
  },
  {
   "cell_type": "code",
   "execution_count": 10,
   "id": "29107431",
   "metadata": {},
   "outputs": [
    {
     "data": {
      "text/plain": [
       "'El padrino, lanzada en 1972 con una duración de 175'"
      ]
     },
     "execution_count": 10,
     "metadata": {},
     "output_type": "execute_result"
    }
   ],
   "source": [
    "str(p) #Esto se usa, para dar información de los objetos creados"
   ]
  },
  {
   "cell_type": "markdown",
   "id": "17525216",
   "metadata": {},
   "source": [
    "## como hacer atributos y metodos privados"
   ]
  },
  {
   "cell_type": "code",
   "execution_count": 11,
   "id": "090fd2fd",
   "metadata": {},
   "outputs": [],
   "source": [
    "class Ejemplo:\n",
    "    __atributo_privado = \"Atributo que no se ve desde fuera de forma directa\"\n",
    "    \n",
    "    def __metodo_privado(self):\n",
    "        print (\"Metodo que no se puede ver desde fuera de forma directa\")\n",
    "e = Ejemplo() # Si creo un ejemplo e intento entrar en su atributo o en su método"
   ]
  },
  {
   "cell_type": "code",
   "execution_count": 12,
   "id": "dd07b997",
   "metadata": {},
   "outputs": [
    {
     "ename": "AttributeError",
     "evalue": "'Ejemplo' object has no attribute '__atributo_privado'",
     "output_type": "error",
     "traceback": [
      "\u001b[1;31m---------------------------------------------------------------------------\u001b[0m",
      "\u001b[1;31mAttributeError\u001b[0m                            Traceback (most recent call last)",
      "\u001b[1;32m<ipython-input-12-f7d87cbc25da>\u001b[0m in \u001b[0;36m<module>\u001b[1;34m\u001b[0m\n\u001b[1;32m----> 1\u001b[1;33m \u001b[0me\u001b[0m\u001b[1;33m.\u001b[0m\u001b[0m__atributo_privado\u001b[0m\u001b[1;33m\u001b[0m\u001b[1;33m\u001b[0m\u001b[0m\n\u001b[0m",
      "\u001b[1;31mAttributeError\u001b[0m: 'Ejemplo' object has no attribute '__atributo_privado'"
     ]
    }
   ],
   "source": [
    "e.__atributo_privado #Sale como que no existe"
   ]
  },
  {
   "cell_type": "code",
   "execution_count": 13,
   "id": "9beb0bf0",
   "metadata": {},
   "outputs": [
    {
     "ename": "AttributeError",
     "evalue": "'Ejemplo' object has no attribute '__metodo_privado'",
     "output_type": "error",
     "traceback": [
      "\u001b[1;31m---------------------------------------------------------------------------\u001b[0m",
      "\u001b[1;31mAttributeError\u001b[0m                            Traceback (most recent call last)",
      "\u001b[1;32m<ipython-input-13-81c514698440>\u001b[0m in \u001b[0;36m<module>\u001b[1;34m\u001b[0m\n\u001b[1;32m----> 1\u001b[1;33m \u001b[0me\u001b[0m\u001b[1;33m.\u001b[0m\u001b[0m__metodo_privado\u001b[0m\u001b[1;33m(\u001b[0m\u001b[1;33m)\u001b[0m\u001b[1;33m\u001b[0m\u001b[1;33m\u001b[0m\u001b[0m\n\u001b[0m",
      "\u001b[1;31mAttributeError\u001b[0m: 'Ejemplo' object has no attribute '__metodo_privado'"
     ]
    }
   ],
   "source": [
    "e.__metodo_privado()"
   ]
  },
  {
   "cell_type": "code",
   "execution_count": 2,
   "id": "b0e1b921",
   "metadata": {},
   "outputs": [],
   "source": [
    "#Para verlos, sería necesario crear un metodo que los mostrase\n",
    "class Ejemplo:\n",
    "    __atributo_privado = \"Atributo que no se ve desde fuera de forma directa\"\n",
    "    \n",
    "    def __metodo_privado(self):\n",
    "        print (\"Metodo que no se puede ver desde fuera de forma directa\")\n",
    "    def atributo_publico(self):\n",
    "        return self.__atributo_privado # o self.__metodo.privado\n",
    "e = Ejemplo() # Si creo un ejemplo e intento entrar en su atributo o en su método"
   ]
  },
  {
   "cell_type": "markdown",
   "id": "143cc127",
   "metadata": {},
   "source": [
    "### subclases/herencia"
   ]
  },
  {
   "cell_type": "code",
   "execution_count": 5,
   "id": "b4a4f86f",
   "metadata": {},
   "outputs": [],
   "source": [
    "class Subclase(Ejemplo):\n",
    "    # se le añadirían atributos propios de la subclase. Si no hubiese que añadir más atributos simplemente se pone pass\n",
    "    atributo1 = \"a\"\n",
    "    atributo2 = \"b\"\n",
    "    # Cuando creas un objeto con esta subclase, se le pasan los mismos atributos que a la clase madre, se crea y aparte se añaden los atributos de esta clase\n",
    "    #s= SubClase(atributos de clase madre)\n",
    "    #s.atributo1 = \"lo que sea\""
   ]
  },
  {
   "cell_type": "code",
   "execution_count": 6,
   "id": "de8085f0",
   "metadata": {},
   "outputs": [
    {
     "ename": "TypeError",
     "evalue": "'type' object is not iterable",
     "output_type": "error",
     "traceback": [
      "\u001b[1;31m---------------------------------------------------------------------------\u001b[0m",
      "\u001b[1;31mTypeError\u001b[0m                                 Traceback (most recent call last)",
      "\u001b[1;32m<ipython-input-6-0d1e3d17867f>\u001b[0m in \u001b[0;36m<module>\u001b[1;34m\u001b[0m\n\u001b[0;32m      1\u001b[0m \u001b[1;31m# En el caso de que tienes una clase y varias subclases, si haces un for de la clase y quieres acceder a un atributo de alguna\u001b[0m\u001b[1;33m\u001b[0m\u001b[1;33m\u001b[0m\u001b[1;33m\u001b[0m\u001b[0m\n\u001b[0;32m      2\u001b[0m \u001b[1;31m#subclase, esto te puede dar error. Lo que habría que hacer es usar isinstance.\u001b[0m\u001b[1;33m\u001b[0m\u001b[1;33m\u001b[0m\u001b[1;33m\u001b[0m\u001b[0m\n\u001b[1;32m----> 3\u001b[1;33m \u001b[1;32mfor\u001b[0m \u001b[0mp\u001b[0m \u001b[1;32min\u001b[0m \u001b[0mEjemplo\u001b[0m\u001b[1;33m:\u001b[0m\u001b[1;33m\u001b[0m\u001b[1;33m\u001b[0m\u001b[0m\n\u001b[0m\u001b[0;32m      4\u001b[0m     \u001b[1;32mif\u001b[0m \u001b[1;33m(\u001b[0m\u001b[0misinstance\u001b[0m\u001b[1;33m(\u001b[0m\u001b[0mp\u001b[0m\u001b[1;33m,\u001b[0m \u001b[0mSubclase\u001b[0m\u001b[1;33m)\u001b[0m\u001b[1;33m)\u001b[0m\u001b[1;33m:\u001b[0m\u001b[1;33m\u001b[0m\u001b[1;33m\u001b[0m\u001b[0m\n\u001b[0;32m      5\u001b[0m         \u001b[0mprint\u001b[0m \u001b[1;33m(\u001b[0m\u001b[0mp\u001b[0m\u001b[1;33m.\u001b[0m\u001b[0matributo1\u001b[0m\u001b[1;33m)\u001b[0m\u001b[1;33m\u001b[0m\u001b[1;33m\u001b[0m\u001b[0m\n",
      "\u001b[1;31mTypeError\u001b[0m: 'type' object is not iterable"
     ]
    }
   ],
   "source": [
    "# En el caso de que tienes una clase y varias subclases, si haces un for de la clase y quieres acceder a un atributo de alguna\n",
    "#subclase, esto te puede dar error. Lo que habría que hacer es usar isinstance.\n",
    "for p in Ejemplo:\n",
    "    if (isinstance(p, Subclase)):\n",
    "        print (p.atributo1)\n"
   ]
  },
  {
   "cell_type": "markdown",
   "id": "5b643126",
   "metadata": {},
   "source": [
    "###  IMPORTANTE: Algo se pasa por valor cuando se pasa una copia y por referencia cuando es el original.  Si creas una variable para hacer una copia de un objeto. ejemplo: copia = objeto, no se crea una copia, si no que se asigna el objeto, la nueva variable seria original no copia. Lo mismo pasa con las colecciones."
   ]
  },
  {
   "cell_type": "markdown",
   "id": "5671439b",
   "metadata": {},
   "source": [
    "Para hacer una copia de una lista -> copia = lista[:]"
   ]
  },
  {
   "cell_type": "code",
   "execution_count": 7,
   "id": "1262f203",
   "metadata": {},
   "outputs": [],
   "source": [
    "#Para crear una copia de un objeto, es necesario usar el módulo copy\n",
    "#import copy\n",
    "# copia = copy.copy(objeto)"
   ]
  },
  {
   "cell_type": "markdown",
   "id": "4c28f8c0",
   "metadata": {},
   "source": [
    "El polimorfismo es una movida, por defecto en python todas las clases vienen ya de una clase común llamada object. Todas son polimórficas. "
   ]
  },
  {
   "cell_type": "markdown",
   "id": "3a996250",
   "metadata": {},
   "source": [
    "Herencia múltiple: Una subclase herede de varias clases. Hay problema a la hora de tener mismos métodos y atributos en mas de una clase. En este caso, tiene prioridad el primer objeto que se le pasa. Pero manualmente tiene acceso a todos los métodos de todas las clases."
   ]
  },
  {
   "cell_type": "markdown",
   "id": "ff8f2ed3",
   "metadata": {},
   "source": [
    "## Especiales de string"
   ]
  },
  {
   "cell_type": "code",
   "execution_count": 9,
   "id": "e824620d",
   "metadata": {},
   "outputs": [
    {
     "data": {
      "text/plain": [
       "'HOLA MUNDO'"
      ]
     },
     "execution_count": 9,
     "metadata": {},
     "output_type": "execute_result"
    }
   ],
   "source": [
    "\"hola mundo\".upper() # Todo mayúsucla"
   ]
  },
  {
   "cell_type": "code",
   "execution_count": 11,
   "id": "faf48396",
   "metadata": {},
   "outputs": [
    {
     "data": {
      "text/plain": [
       "'hola mundo'"
      ]
     },
     "execution_count": 11,
     "metadata": {},
     "output_type": "execute_result"
    }
   ],
   "source": [
    "\"hola mundo\".lower() # Todo minúscula"
   ]
  },
  {
   "cell_type": "code",
   "execution_count": 12,
   "id": "a2936aeb",
   "metadata": {},
   "outputs": [
    {
     "data": {
      "text/plain": [
       "'Hola mundo'"
      ]
     },
     "execution_count": 12,
     "metadata": {},
     "output_type": "execute_result"
    }
   ],
   "source": [
    "\"hola mundo\".capitalize() # Primera letra mayúscula"
   ]
  },
  {
   "cell_type": "code",
   "execution_count": 14,
   "id": "848b0ed3",
   "metadata": {},
   "outputs": [
    {
     "data": {
      "text/plain": [
       "'Hola Mundo'"
      ]
     },
     "execution_count": 14,
     "metadata": {},
     "output_type": "execute_result"
    }
   ],
   "source": [
    "\"hola mundo\".title()  #Cada palabra empieza por mayúsucla"
   ]
  },
  {
   "cell_type": "code",
   "execution_count": 16,
   "id": "43cb386c",
   "metadata": {},
   "outputs": [
    {
     "data": {
      "text/plain": [
       "2"
      ]
     },
     "execution_count": 16,
     "metadata": {},
     "output_type": "execute_result"
    }
   ],
   "source": [
    "\"hola mundo\".count('o')  #Cuenta nº veces que hay un caracter, vale también por palabras."
   ]
  },
  {
   "cell_type": "code",
   "execution_count": 18,
   "id": "f7a70e05",
   "metadata": {},
   "outputs": [
    {
     "data": {
      "text/plain": [
       "4"
      ]
     },
     "execution_count": 18,
     "metadata": {},
     "output_type": "execute_result"
    }
   ],
   "source": [
    "\"hola mundo\".find(' ')  #te dice donde está lo que buscas, un espacio para este ejemplo. rfind() busca donde está la palabra, pero te dice la última que se ha puesto"
   ]
  },
  {
   "cell_type": "code",
   "execution_count": 19,
   "id": "7629cef4",
   "metadata": {},
   "outputs": [],
   "source": [
    "c2 = \"ABC233\""
   ]
  },
  {
   "cell_type": "code",
   "execution_count": 20,
   "id": "f2119482",
   "metadata": {},
   "outputs": [
    {
     "data": {
      "text/plain": [
       "True"
      ]
     },
     "execution_count": 20,
     "metadata": {},
     "output_type": "execute_result"
    }
   ],
   "source": [
    "c2.isalnum() # Comprueba si son alfanuméricos, no tiene caracteres especiales"
   ]
  },
  {
   "cell_type": "code",
   "execution_count": 21,
   "id": "ba964864",
   "metadata": {},
   "outputs": [
    {
     "data": {
      "text/plain": [
       "False"
      ]
     },
     "execution_count": 21,
     "metadata": {},
     "output_type": "execute_result"
    }
   ],
   "source": [
    " c2.isalpha() #True si es todo alfabetico, el caracter espacio no cuenta como alfabético"
   ]
  },
  {
   "cell_type": "code",
   "execution_count": 22,
   "id": "d93ec231",
   "metadata": {},
   "outputs": [
    {
     "data": {
      "text/plain": [
       "False"
      ]
     },
     "execution_count": 22,
     "metadata": {},
     "output_type": "execute_result"
    }
   ],
   "source": [
    "\"Hola mundo\".islower() #Comprueba si todo son minúscula"
   ]
  },
  {
   "cell_type": "code",
   "execution_count": 23,
   "id": "0aed7099",
   "metadata": {},
   "outputs": [
    {
     "data": {
      "text/plain": [
       "False"
      ]
     },
     "execution_count": 23,
     "metadata": {},
     "output_type": "execute_result"
    }
   ],
   "source": [
    "\"Hola mundo\".isupper() #Comprueba si todo son mayúsucla"
   ]
  },
  {
   "cell_type": "code",
   "execution_count": 24,
   "id": "879c2779",
   "metadata": {},
   "outputs": [
    {
     "data": {
      "text/plain": [
       "False"
      ]
     },
     "execution_count": 24,
     "metadata": {},
     "output_type": "execute_result"
    }
   ],
   "source": [
    "\"Hola mundo\".isspace() #Comprueba si todo son espacios"
   ]
  },
  {
   "cell_type": "code",
   "execution_count": 25,
   "id": "75914b23",
   "metadata": {},
   "outputs": [
    {
     "data": {
      "text/plain": [
       "True"
      ]
     },
     "execution_count": 25,
     "metadata": {},
     "output_type": "execute_result"
    }
   ],
   "source": [
    "\"Hola mundo\".startswith(\"Hola\") #Comprueba si la cadena empieza con una palabra o caracter"
   ]
  },
  {
   "cell_type": "code",
   "execution_count": 26,
   "id": "14eb3263",
   "metadata": {},
   "outputs": [
    {
     "data": {
      "text/plain": [
       "False"
      ]
     },
     "execution_count": 26,
     "metadata": {},
     "output_type": "execute_result"
    }
   ],
   "source": [
    "\"Hola mundo\".endswith('g') #Comprueba si la cadena termina con algo"
   ]
  },
  {
   "cell_type": "code",
   "execution_count": 27,
   "id": "f6bb3dc7",
   "metadata": {},
   "outputs": [
    {
     "data": {
      "text/plain": [
       "['Hola', 'mundo', 'mundo']"
      ]
     },
     "execution_count": 27,
     "metadata": {},
     "output_type": "execute_result"
    }
   ],
   "source": [
    "\"Hola mundo mundo\".split() #Separa las palabras por espacio"
   ]
  },
  {
   "cell_type": "code",
   "execution_count": 28,
   "id": "890f34dd",
   "metadata": {},
   "outputs": [
    {
     "data": {
      "text/plain": [
       "'mundo'"
      ]
     },
     "execution_count": 28,
     "metadata": {},
     "output_type": "execute_result"
    }
   ],
   "source": [
    "\"Hola mundo mundo\".split()[-1] #devuelve sólo la última palabra"
   ]
  },
  {
   "cell_type": "code",
   "execution_count": 29,
   "id": "f0c75ef8",
   "metadata": {},
   "outputs": [
    {
     "data": {
      "text/plain": [
       "['Hola', 'mundo', 'mundo']"
      ]
     },
     "execution_count": 29,
     "metadata": {},
     "output_type": "execute_result"
    }
   ],
   "source": [
    "\"Hola,mundo,mundo\".split(',') #Separa las palabras por comas"
   ]
  },
  {
   "cell_type": "code",
   "execution_count": 30,
   "id": "b6a9f2d1",
   "metadata": {},
   "outputs": [
    {
     "data": {
      "text/plain": [
       "'h,o,l,a, ,m,u,n,d,o'"
      ]
     },
     "execution_count": 30,
     "metadata": {},
     "output_type": "execute_result"
    }
   ],
   "source": [
    "\",\".join(\"hola mundo\") #Une"
   ]
  },
  {
   "cell_type": "code",
   "execution_count": 31,
   "id": "5f4168aa",
   "metadata": {},
   "outputs": [
    {
     "data": {
      "text/plain": [
       "'Hola mundo'"
      ]
     },
     "execution_count": 31,
     "metadata": {},
     "output_type": "execute_result"
    }
   ],
   "source": [
    "\"        Hola mundo    \".strip() #borra espacios a los lados"
   ]
  },
  {
   "cell_type": "code",
   "execution_count": 33,
   "id": "e126a9d2",
   "metadata": {},
   "outputs": [
    {
     "data": {
      "text/plain": [
       "'Hola mundo'"
      ]
     },
     "execution_count": 33,
     "metadata": {},
     "output_type": "execute_result"
    }
   ],
   "source": [
    "\"-----Hola mundo------\".strip('-') #borra guines a los lados"
   ]
  },
  {
   "cell_type": "code",
   "execution_count": 34,
   "id": "5efaee70",
   "metadata": {},
   "outputs": [
    {
     "data": {
      "text/plain": [
       "'H0la mund0'"
      ]
     },
     "execution_count": 34,
     "metadata": {},
     "output_type": "execute_result"
    }
   ],
   "source": [
    "\"Hola mundo\".replace('o','0') # Cambia un caracter o palabra por otr@"
   ]
  },
  {
   "cell_type": "code",
   "execution_count": 36,
   "id": "5aaf4ab9",
   "metadata": {},
   "outputs": [
    {
     "data": {
      "text/plain": [
       "'Hola mundo'"
      ]
     },
     "execution_count": 36,
     "metadata": {},
     "output_type": "execute_result"
    }
   ],
   "source": [
    "\"Hola mundo mundo mundo mundo\".replace(' mundo','',3) # Cambia un caracter o palabra por otr@, tantas veces como le digas"
   ]
  },
  {
   "cell_type": "markdown",
   "id": "13d45fcd",
   "metadata": {},
   "source": [
    "### Especiales listas"
   ]
  },
  {
   "cell_type": "code",
   "execution_count": 39,
   "id": "9d0c4d3e",
   "metadata": {},
   "outputs": [],
   "source": [
    "lista = [1,2,3,4,5]\n",
    "lista.append(6)"
   ]
  },
  {
   "cell_type": "code",
   "execution_count": 38,
   "id": "3eb9facd",
   "metadata": {},
   "outputs": [],
   "source": [
    "lista.clear() #Borra la lista"
   ]
  },
  {
   "cell_type": "code",
   "execution_count": 40,
   "id": "d0cb1d43",
   "metadata": {},
   "outputs": [],
   "source": [
    "l1 = [1,2,3]\n",
    "l2 = [4,5,6]\n",
    "\n",
    "l1.extend(l2) # Une listas"
   ]
  },
  {
   "cell_type": "code",
   "execution_count": 41,
   "id": "88aaf157",
   "metadata": {},
   "outputs": [
    {
     "data": {
      "text/plain": [
       "1"
      ]
     },
     "execution_count": 41,
     "metadata": {},
     "output_type": "execute_result"
    }
   ],
   "source": [
    "[\"Hola\", \"mundo\", \"mundo\"].count(\"Hola\")"
   ]
  },
  {
   "cell_type": "code",
   "execution_count": 42,
   "id": "1041c678",
   "metadata": {},
   "outputs": [
    {
     "data": {
      "text/plain": [
       "0"
      ]
     },
     "execution_count": 42,
     "metadata": {},
     "output_type": "execute_result"
    }
   ],
   "source": [
    "[\"Hola\", \"mundo\", \"mundo\"].index(\"Hola\") #Donde aparece una palabra o caracter"
   ]
  },
  {
   "cell_type": "code",
   "execution_count": 43,
   "id": "8717b724",
   "metadata": {},
   "outputs": [],
   "source": [
    "l = [1,2,3]\n",
    "l.insert(0,0) #inserta en una posición, si no pones nada lo añade al principio"
   ]
  },
  {
   "cell_type": "code",
   "execution_count": 44,
   "id": "6432037c",
   "metadata": {},
   "outputs": [
    {
     "data": {
      "text/plain": [
       "40"
      ]
     },
     "execution_count": 44,
     "metadata": {},
     "output_type": "execute_result"
    }
   ],
   "source": [
    "l = [10,20,30,40]\n",
    "l.pop() #borra último elemento"
   ]
  },
  {
   "cell_type": "code",
   "execution_count": 45,
   "id": "4e8259ca",
   "metadata": {},
   "outputs": [
    {
     "data": {
      "text/plain": [
       "10"
      ]
     },
     "execution_count": 45,
     "metadata": {},
     "output_type": "execute_result"
    }
   ],
   "source": [
    "l.pop(0) #borra en el índice indicado"
   ]
  },
  {
   "cell_type": "code",
   "execution_count": 46,
   "id": "4c1b5be5",
   "metadata": {},
   "outputs": [],
   "source": [
    "l.remove(30) #Borra valor de la lista, sólo uno"
   ]
  },
  {
   "cell_type": "code",
   "execution_count": 48,
   "id": "26ba0c18",
   "metadata": {},
   "outputs": [
    {
     "data": {
      "text/plain": [
       "[40, 30, 20, 10]"
      ]
     },
     "execution_count": 48,
     "metadata": {},
     "output_type": "execute_result"
    }
   ],
   "source": [
    "l = [10,20,30,40]\n",
    "l.reverse() #Gira la lista\n",
    "l"
   ]
  },
  {
   "cell_type": "code",
   "execution_count": 49,
   "id": "2576df6c",
   "metadata": {},
   "outputs": [
    {
     "data": {
      "text/plain": [
       "[-10, 0, 1, 5, 7]"
      ]
     },
     "execution_count": 49,
     "metadata": {},
     "output_type": "execute_result"
    }
   ],
   "source": [
    "l = [5,-10,0,7,1]\n",
    "l.sort() #Ordena automáticamente de menor a mayor\n",
    "l"
   ]
  },
  {
   "cell_type": "code",
   "execution_count": 50,
   "id": "e60f0604",
   "metadata": {},
   "outputs": [
    {
     "data": {
      "text/plain": [
       "[7, 5, 1, 0, -10]"
      ]
     },
     "execution_count": 50,
     "metadata": {},
     "output_type": "execute_result"
    }
   ],
   "source": [
    "l.sort(reverse=True) #ordena de mayor a menor\n",
    "l"
   ]
  },
  {
   "cell_type": "markdown",
   "id": "d9c753a5",
   "metadata": {},
   "source": [
    "### especiales conjuntos"
   ]
  },
  {
   "cell_type": "code",
   "execution_count": 51,
   "id": "f9afa028",
   "metadata": {},
   "outputs": [],
   "source": [
    "c = set()"
   ]
  },
  {
   "cell_type": "code",
   "execution_count": 52,
   "id": "12264722",
   "metadata": {},
   "outputs": [],
   "source": [
    "c.add(1)"
   ]
  },
  {
   "cell_type": "code",
   "execution_count": 53,
   "id": "5a2277d4",
   "metadata": {},
   "outputs": [
    {
     "data": {
      "text/plain": [
       "{1, 2, 3}"
      ]
     },
     "execution_count": 53,
     "metadata": {},
     "output_type": "execute_result"
    }
   ],
   "source": [
    "c.add(2)\n",
    "c.add(3)\n",
    "c"
   ]
  },
  {
   "cell_type": "code",
   "execution_count": 55,
   "id": "3a44df2e",
   "metadata": {},
   "outputs": [
    {
     "data": {
      "text/plain": [
       "{2, 3}"
      ]
     },
     "execution_count": 55,
     "metadata": {},
     "output_type": "execute_result"
    }
   ],
   "source": [
    "c.discard(1) #descarta un valor del conjunto\n",
    "c"
   ]
  },
  {
   "cell_type": "code",
   "execution_count": 56,
   "id": "9a0e8a90",
   "metadata": {},
   "outputs": [],
   "source": [
    "c.add(1)"
   ]
  },
  {
   "cell_type": "code",
   "execution_count": 57,
   "id": "56cac074",
   "metadata": {},
   "outputs": [],
   "source": [
    "c2 = c.copy() #Crea copia del conjunto"
   ]
  },
  {
   "cell_type": "code",
   "execution_count": 59,
   "id": "0b7b1f1f",
   "metadata": {},
   "outputs": [
    {
     "data": {
      "text/plain": [
       "set()"
      ]
     },
     "execution_count": 59,
     "metadata": {},
     "output_type": "execute_result"
    }
   ],
   "source": [
    "c2.clear() #Elimina\n",
    "c2"
   ]
  },
  {
   "cell_type": "code",
   "execution_count": 60,
   "id": "6fa0e3fb",
   "metadata": {},
   "outputs": [
    {
     "data": {
      "text/plain": [
       "{1, 2, 3}"
      ]
     },
     "execution_count": 60,
     "metadata": {},
     "output_type": "execute_result"
    }
   ],
   "source": [
    "c"
   ]
  },
  {
   "cell_type": "code",
   "execution_count": 61,
   "id": "7ce146b8",
   "metadata": {},
   "outputs": [],
   "source": [
    "c1 = {1,2,3}\n",
    "c2 = {3,4,5}\n",
    "c3 = {-1,99}\n",
    "c4 = {1,2,3,4,5}"
   ]
  },
  {
   "cell_type": "code",
   "execution_count": 63,
   "id": "8c8ccc8d",
   "metadata": {},
   "outputs": [
    {
     "data": {
      "text/plain": [
       "False"
      ]
     },
     "execution_count": 63,
     "metadata": {},
     "output_type": "execute_result"
    }
   ],
   "source": [
    "c1.isdisjoint(c2) #Si tiene algún elemento en común"
   ]
  },
  {
   "cell_type": "code",
   "execution_count": 64,
   "id": "792d041f",
   "metadata": {},
   "outputs": [
    {
     "data": {
      "text/plain": [
       "True"
      ]
     },
     "execution_count": 64,
     "metadata": {},
     "output_type": "execute_result"
    }
   ],
   "source": [
    "c1.issubset(c4) #Si comparte todos los elementos"
   ]
  },
  {
   "cell_type": "code",
   "execution_count": 65,
   "id": "35a331b1",
   "metadata": {},
   "outputs": [
    {
     "data": {
      "text/plain": [
       "True"
      ]
     },
     "execution_count": 65,
     "metadata": {},
     "output_type": "execute_result"
    }
   ],
   "source": [
    "c4.issuperset(c1) #??"
   ]
  },
  {
   "cell_type": "code",
   "execution_count": 67,
   "id": "0b878ce2",
   "metadata": {},
   "outputs": [
    {
     "data": {
      "text/plain": [
       "{1, 2, 3, 4, 5}"
      ]
     },
     "execution_count": 67,
     "metadata": {},
     "output_type": "execute_result"
    }
   ],
   "source": [
    "c1.union(c2) #une conjuntos"
   ]
  },
  {
   "cell_type": "code",
   "execution_count": 69,
   "id": "59160d16",
   "metadata": {},
   "outputs": [
    {
     "data": {
      "text/plain": [
       "{1, 2, 3, 4, 5}"
      ]
     },
     "execution_count": 69,
     "metadata": {},
     "output_type": "execute_result"
    }
   ],
   "source": [
    "c1.update(c2) #actualiza\n",
    "c1"
   ]
  },
  {
   "cell_type": "code",
   "execution_count": 70,
   "id": "9d16a0c2",
   "metadata": {},
   "outputs": [],
   "source": [
    "c1 = {1,2,3}\n",
    "c2 = {3,4,5}\n",
    "c3 = {-1,99}\n",
    "c4 = {1,2,3,4,5}"
   ]
  },
  {
   "cell_type": "code",
   "execution_count": 71,
   "id": "54cfc046",
   "metadata": {},
   "outputs": [
    {
     "data": {
      "text/plain": [
       "{1, 2}"
      ]
     },
     "execution_count": 71,
     "metadata": {},
     "output_type": "execute_result"
    }
   ],
   "source": [
    "c1.difference(c2) # Nos devuelve los elementos distintos"
   ]
  },
  {
   "cell_type": "code",
   "execution_count": 72,
   "id": "41bcf5ae",
   "metadata": {},
   "outputs": [
    {
     "data": {
      "text/plain": [
       "{1, 2}"
      ]
     },
     "execution_count": 72,
     "metadata": {},
     "output_type": "execute_result"
    }
   ],
   "source": [
    "c1.difference_update(c2) # además los guarda en c1\n",
    "c1"
   ]
  },
  {
   "cell_type": "code",
   "execution_count": 77,
   "id": "2846a6aa",
   "metadata": {},
   "outputs": [],
   "source": [
    "c1 = {1,2,3}\n",
    "c2 = {3,4,5}\n",
    "c3 = {-1,99}\n",
    "c4 = {1,2,3,4,5}"
   ]
  },
  {
   "cell_type": "code",
   "execution_count": 74,
   "id": "4abe1edf",
   "metadata": {},
   "outputs": [
    {
     "data": {
      "text/plain": [
       "{3}"
      ]
     },
     "execution_count": 74,
     "metadata": {},
     "output_type": "execute_result"
    }
   ],
   "source": [
    "c1.intersection(c2) #elementos en común"
   ]
  },
  {
   "cell_type": "code",
   "execution_count": 79,
   "id": "d3708c3e",
   "metadata": {},
   "outputs": [
    {
     "data": {
      "text/plain": [
       "{1, 2, 4, 5}"
      ]
     },
     "execution_count": 79,
     "metadata": {},
     "output_type": "execute_result"
    }
   ],
   "source": [
    "c1.symmetric_difference(c2) # devuelve los elementos que no concuerdan de AMBOS conjutos"
   ]
  },
  {
   "cell_type": "markdown",
   "id": "cd1313d5",
   "metadata": {},
   "source": [
    "### especiales diccionarios"
   ]
  },
  {
   "cell_type": "code",
   "execution_count": 80,
   "id": "34fd5054",
   "metadata": {},
   "outputs": [
    {
     "data": {
      "text/plain": [
       "{'amarillo': 'yellow', 'azul': 'blue', 'verde': 'green'}"
      ]
     },
     "execution_count": 80,
     "metadata": {},
     "output_type": "execute_result"
    }
   ],
   "source": [
    "colores = {'amarillo':'yellow','azul':'blue','verde':'green'}\n",
    "colores"
   ]
  },
  {
   "cell_type": "code",
   "execution_count": 81,
   "id": "efe3ee72",
   "metadata": {},
   "outputs": [
    {
     "data": {
      "text/plain": [
       "'yellow'"
      ]
     },
     "execution_count": 81,
     "metadata": {},
     "output_type": "execute_result"
    }
   ],
   "source": [
    "colores['amarillo']"
   ]
  },
  {
   "cell_type": "code",
   "execution_count": 83,
   "id": "398d38b6",
   "metadata": {},
   "outputs": [
    {
     "data": {
      "text/plain": [
       "'no se encuentra'"
      ]
     },
     "execution_count": 83,
     "metadata": {},
     "output_type": "execute_result"
    }
   ],
   "source": [
    "colores.get('negro','no se encuentra') #busca una clave y si no está printa un mensaje"
   ]
  },
  {
   "cell_type": "code",
   "execution_count": 84,
   "id": "536e11f6",
   "metadata": {},
   "outputs": [
    {
     "data": {
      "text/plain": [
       "False"
      ]
     },
     "execution_count": 84,
     "metadata": {},
     "output_type": "execute_result"
    }
   ],
   "source": [
    "'negro' in colores"
   ]
  },
  {
   "cell_type": "code",
   "execution_count": 86,
   "id": "f12b5ff3",
   "metadata": {},
   "outputs": [
    {
     "data": {
      "text/plain": [
       "dict_keys(['amarillo', 'azul', 'verde'])"
      ]
     },
     "execution_count": 86,
     "metadata": {},
     "output_type": "execute_result"
    }
   ],
   "source": [
    "colores.keys() #devuelve lista con claves"
   ]
  },
  {
   "cell_type": "code",
   "execution_count": 87,
   "id": "c618c9cf",
   "metadata": {},
   "outputs": [
    {
     "data": {
      "text/plain": [
       "dict_values(['yellow', 'blue', 'green'])"
      ]
     },
     "execution_count": 87,
     "metadata": {},
     "output_type": "execute_result"
    }
   ],
   "source": [
    "colores.values() #deuelve los valores en una lista"
   ]
  },
  {
   "cell_type": "code",
   "execution_count": 88,
   "id": "902bddd1",
   "metadata": {},
   "outputs": [
    {
     "data": {
      "text/plain": [
       "dict_items([('amarillo', 'yellow'), ('azul', 'blue'), ('verde', 'green')])"
      ]
     },
     "execution_count": 88,
     "metadata": {},
     "output_type": "execute_result"
    }
   ],
   "source": [
    "colores.items() #devuelve lista con tuplas, con clave y valor. Sirve para recorrer"
   ]
  },
  {
   "cell_type": "code",
   "execution_count": 89,
   "id": "58a931c8",
   "metadata": {},
   "outputs": [],
   "source": [
    "colores = {'amarillo':'yellow','azul':'blue','verde':'green'}"
   ]
  },
  {
   "cell_type": "code",
   "execution_count": 90,
   "id": "dbfe41b4",
   "metadata": {},
   "outputs": [
    {
     "data": {
      "text/plain": [
       "'yellow'"
      ]
     },
     "execution_count": 90,
     "metadata": {},
     "output_type": "execute_result"
    }
   ],
   "source": [
    "colores.pop('amarillo', 'no se ha encontrado') \n",
    "#borra el valor con esa clave, en caso de no existir printa el mensaje"
   ]
  },
  {
   "cell_type": "code",
   "execution_count": 91,
   "id": "c457c8db",
   "metadata": {},
   "outputs": [
    {
     "data": {
      "text/plain": [
       "{'azul': 'blue', 'verde': 'green'}"
      ]
     },
     "execution_count": 91,
     "metadata": {},
     "output_type": "execute_result"
    }
   ],
   "source": [
    "colores"
   ]
  },
  {
   "cell_type": "code",
   "execution_count": 93,
   "id": "97d1d0a7",
   "metadata": {},
   "outputs": [
    {
     "data": {
      "text/plain": [
       "{}"
      ]
     },
     "execution_count": 93,
     "metadata": {},
     "output_type": "execute_result"
    }
   ],
   "source": [
    "colores.clear() #vacía\n",
    "colores"
   ]
  },
  {
   "cell_type": "markdown",
   "id": "e924cfa0",
   "metadata": {},
   "source": [
    "### Módulos. Caso en que tienes que llamar a un fichero que está en una ruta anterior"
   ]
  },
  {
   "cell_type": "code",
   "execution_count": 1,
   "id": "6799a75f",
   "metadata": {},
   "outputs": [],
   "source": [
    "#import sys\n",
    "\n",
    "#sys.path.insert(1, '..') #los dos puntos hacen referencia a una ruta anterior\n",
    "# print(sys.path) con esto vemos en que rutas busca el archivo\n",
    "\n",
    "# import ArchivoABuscar\n"
   ]
  },
  {
   "cell_type": "markdown",
   "id": "408643b2",
   "metadata": {},
   "source": [
    "### Esto es chapucero, porque tendrías que poner la ruta por cada archivo. Por ello, en python existen los paquetes."
   ]
  },
  {
   "cell_type": "markdown",
   "id": "3b046b89",
   "metadata": {},
   "source": [
    "El archivo __init__.py indica a python que todos los archivos en ese directorio forman parte de un paquete. Entonces cada archivo que yo cree, lo puedo referenciar a ese paquete. El paquete y el archivo han de estar en el mismo directorio."
   ]
  },
  {
   "cell_type": "code",
   "execution_count": 2,
   "id": "5741bc94",
   "metadata": {},
   "outputs": [],
   "source": [
    "# from directorio.archivoReferenciado import *\n",
    "# Cada paquete sería como un directorio, luego dentre de ese directorio\n",
    "# puede haber más paquetes que serían subpaquetes, siempre, cada paquete con\n",
    "# un __init__.py\n"
   ]
  },
  {
   "cell_type": "code",
   "execution_count": 3,
   "id": "b37025b9",
   "metadata": {},
   "outputs": [],
   "source": [
    "# from NombreDirectorio.NombreSubdirectorio.Nombrearchivo import *"
   ]
  },
  {
   "cell_type": "markdown",
   "id": "5e0d4dc5",
   "metadata": {},
   "source": [
    "### Para poder usar ese paquete, indistintamente del directorio, se puede instalar el paquete en python, a esto se llama distribución."
   ]
  },
  {
   "cell_type": "markdown",
   "id": "4f1e00c9",
   "metadata": {},
   "source": [
    "La forma de hacerlo es crear un setup.py en el directorio principal, el directorio que contendra los paquetes.\n",
    "El setup.py contendrá\n",
    "\n",
    "from setuptools import setup\n",
    "\n",
    "setup(\n",
    "    name=\"NombrePaquete\",\n",
    "    version=\"0.1,\n",
    "    description=\"este es un paquete de ejemplo\",\n",
    "    author=\"Nombre\",\n",
    "    author_email=\"aaa@aaa.com\",\n",
    "    url=\"web\",\n",
    "    scripts=[],\n",
    "    packages=[\"paquetes\",\"y subpaquetes\",\"a guardar\"]\n",
    ")"
   ]
  },
  {
   "cell_type": "markdown",
   "id": "eb20633c",
   "metadata": {},
   "source": [
    "Para crear el distribuible, una vez tenemos el setup.py con el código necesario, vamos a ejecutarlo en el cmd con el comando. \n",
    "python setup.py sdist. Esto generará una carpeta con el nombre dist con el distribuible. Ahora para instalar el paquete, vamos en el cmd a la carpeta dist y ejecutamos el comando: pip3 install NombreArchivo. Si no funciona probar con pip en lugar de pip3."
   ]
  },
  {
   "cell_type": "raw",
   "id": "841bf083",
   "metadata": {},
   "source": [
    "Para desinstalar pip3 uninstall NombrePaquete"
   ]
  },
  {
   "cell_type": "markdown",
   "id": "1de12626",
   "metadata": {},
   "source": [
    "# Módulos por defecto en python"
   ]
  },
  {
   "cell_type": "markdown",
   "id": "89c229a9",
   "metadata": {},
   "source": [
    "### Módulo collection"
   ]
  },
  {
   "cell_type": "code",
   "execution_count": 9,
   "id": "15a1ac30",
   "metadata": {},
   "outputs": [],
   "source": [
    "from collections import Counter\n",
    "\n",
    "l = [11,2,3,4,4,5,6,6,6,7]"
   ]
  },
  {
   "cell_type": "code",
   "execution_count": 10,
   "id": "cba8aacf",
   "metadata": {},
   "outputs": [],
   "source": [
    "c = Counter(l) # Cuenta nº veces que se repite cada elemento."
   ]
  },
  {
   "cell_type": "code",
   "execution_count": 4,
   "id": "9822994d",
   "metadata": {},
   "outputs": [
    {
     "data": {
      "text/plain": [
       "Counter({'H': 1,\n",
       "         'o': 2,\n",
       "         'l': 3,\n",
       "         'a': 3,\n",
       "         ' ': 3,\n",
       "         'm': 2,\n",
       "         'e': 1,\n",
       "         'J': 1,\n",
       "         'u': 1,\n",
       "         'n': 1})"
      ]
     },
     "execution_count": 4,
     "metadata": {},
     "output_type": "execute_result"
    }
   ],
   "source": [
    "Counter(\"Hola me llamo Juan\")"
   ]
  },
  {
   "cell_type": "code",
   "execution_count": 11,
   "id": "38192c44",
   "metadata": {},
   "outputs": [
    {
     "data": {
      "text/plain": [
       "[(6, 3), (4, 2), (11, 1), (2, 1), (3, 1), (5, 1), (7, 1)]"
      ]
     },
     "execution_count": 11,
     "metadata": {},
     "output_type": "execute_result"
    }
   ],
   "source": [
    "c.most_common() #Para saber nº de repeticiones"
   ]
  },
  {
   "cell_type": "code",
   "execution_count": 12,
   "id": "3539b763",
   "metadata": {},
   "outputs": [
    {
     "data": {
      "text/plain": [
       "[(6, 3)]"
      ]
     },
     "execution_count": 12,
     "metadata": {},
     "output_type": "execute_result"
    }
   ],
   "source": [
    "c.most_common(1) #Para saber el más común"
   ]
  },
  {
   "cell_type": "code",
   "execution_count": 15,
   "id": "97606082",
   "metadata": {},
   "outputs": [],
   "source": [
    "d = {}"
   ]
  },
  {
   "cell_type": "code",
   "execution_count": 16,
   "id": "ef671c92",
   "metadata": {},
   "outputs": [
    {
     "ename": "KeyError",
     "evalue": "'algo'",
     "output_type": "error",
     "traceback": [
      "\u001b[1;31m---------------------------------------------------------------------------\u001b[0m",
      "\u001b[1;31mKeyError\u001b[0m                                  Traceback (most recent call last)",
      "\u001b[1;32m<ipython-input-16-9e2fe4f65afa>\u001b[0m in \u001b[0;36m<module>\u001b[1;34m\u001b[0m\n\u001b[1;32m----> 1\u001b[1;33m \u001b[0md\u001b[0m\u001b[1;33m[\u001b[0m\u001b[1;34m'algo'\u001b[0m\u001b[1;33m]\u001b[0m \u001b[1;31m#Si intentamos acceder a una clave que no existe en un diccionario, da error\u001b[0m\u001b[1;33m\u001b[0m\u001b[1;33m\u001b[0m\u001b[0m\n\u001b[0m",
      "\u001b[1;31mKeyError\u001b[0m: 'algo'"
     ]
    }
   ],
   "source": [
    "d['algo'] #Si intentamos acceder a una clave que no existe en un diccionario, da error"
   ]
  },
  {
   "cell_type": "code",
   "execution_count": 17,
   "id": "637d59ff",
   "metadata": {},
   "outputs": [],
   "source": [
    "# Con este método, si intentamos acceder y no existe la clave, la crea con un valor por defecto\n",
    "from collections import defaultdict\n",
    "\n",
    "d = defaultdict(float)"
   ]
  },
  {
   "cell_type": "code",
   "execution_count": 18,
   "id": "10b4f88e",
   "metadata": {},
   "outputs": [
    {
     "data": {
      "text/plain": [
       "0.0"
      ]
     },
     "execution_count": 18,
     "metadata": {},
     "output_type": "execute_result"
    }
   ],
   "source": [
    "d['algo']"
   ]
  },
  {
   "cell_type": "code",
   "execution_count": 19,
   "id": "aedec09f",
   "metadata": {},
   "outputs": [
    {
     "data": {
      "text/plain": [
       "defaultdict(float, {'algo': 0.0})"
      ]
     },
     "execution_count": 19,
     "metadata": {},
     "output_type": "execute_result"
    }
   ],
   "source": [
    "d\n"
   ]
  },
  {
   "cell_type": "code",
   "execution_count": 20,
   "id": "ec912178",
   "metadata": {},
   "outputs": [],
   "source": [
    "n = {}"
   ]
  },
  {
   "cell_type": "code",
   "execution_count": 21,
   "id": "85f6d6d6",
   "metadata": {},
   "outputs": [],
   "source": [
    "n['uno'] = 'one'"
   ]
  },
  {
   "cell_type": "code",
   "execution_count": 22,
   "id": "7e1b78d5",
   "metadata": {},
   "outputs": [],
   "source": [
    "n['dos'] = 'two'"
   ]
  },
  {
   "cell_type": "code",
   "execution_count": 23,
   "id": "ad81a406",
   "metadata": {},
   "outputs": [],
   "source": [
    "n['tres'] = 'three'"
   ]
  },
  {
   "cell_type": "code",
   "execution_count": 25,
   "id": "5e988630",
   "metadata": {},
   "outputs": [
    {
     "data": {
      "text/plain": [
       "{'uno': 'one', 'dos': 'two', 'tres': 'three'}"
      ]
     },
     "execution_count": 25,
     "metadata": {},
     "output_type": "execute_result"
    }
   ],
   "source": [
    "n # En este caso no ha pasado, pero hay veces que puede no quedar ordenada la clave\n",
    "#con el valor"
   ]
  },
  {
   "cell_type": "code",
   "execution_count": 26,
   "id": "f2afef11",
   "metadata": {},
   "outputs": [],
   "source": [
    "#Para que queden ordenadas de fijo\n",
    "from collections import OrderedDict\n",
    "\n",
    "n = OrderedDict()"
   ]
  },
  {
   "cell_type": "code",
   "execution_count": 27,
   "id": "420c750d",
   "metadata": {},
   "outputs": [],
   "source": [
    "n['uno'] = 'one'\n",
    "n['dos'] = 'two'\n",
    "n['tres'] = 'three'"
   ]
  },
  {
   "cell_type": "code",
   "execution_count": 28,
   "id": "3c2b85ff",
   "metadata": {},
   "outputs": [
    {
     "data": {
      "text/plain": [
       "OrderedDict([('uno', 'one'), ('dos', 'two'), ('tres', 'three')])"
      ]
     },
     "execution_count": 28,
     "metadata": {},
     "output_type": "execute_result"
    }
   ],
   "source": [
    "n"
   ]
  },
  {
   "cell_type": "code",
   "execution_count": 29,
   "id": "ac5dfc3c",
   "metadata": {},
   "outputs": [],
   "source": [
    "n1 = {}\n",
    "\n",
    "n1['uno'] = 'one'\n",
    "n1['dos'] = 'two'\n",
    "\n",
    "n2 = {}\n",
    "\n",
    "n2['dos'] = 'two'\n",
    "n2['uno'] = 'one'\n",
    "\n",
    "#Al igualar dos diccionarios, a pesar de no ser exactamente iguales, los da por iguales."
   ]
  },
  {
   "cell_type": "code",
   "execution_count": 30,
   "id": "30ae9c7f",
   "metadata": {},
   "outputs": [
    {
     "data": {
      "text/plain": [
       "True"
      ]
     },
     "execution_count": 30,
     "metadata": {},
     "output_type": "execute_result"
    }
   ],
   "source": [
    "n1 == n2"
   ]
  },
  {
   "cell_type": "code",
   "execution_count": 32,
   "id": "9b853053",
   "metadata": {},
   "outputs": [],
   "source": [
    "n1 = OrderedDict()\n",
    "\n",
    "n1['uno'] = 'one'\n",
    "n1['dos'] = 'two'\n",
    "\n",
    "n2 = OrderedDict()\n",
    "\n",
    "n2['dos'] = 'two'\n",
    "n2['uno'] = 'one'\n",
    "\n",
    "#Para solucionar eso usamos OrderedDict"
   ]
  },
  {
   "cell_type": "code",
   "execution_count": 33,
   "id": "625a3e3d",
   "metadata": {},
   "outputs": [
    {
     "data": {
      "text/plain": [
       "False"
      ]
     },
     "execution_count": 33,
     "metadata": {},
     "output_type": "execute_result"
    }
   ],
   "source": [
    "n1 == n2"
   ]
  },
  {
   "cell_type": "code",
   "execution_count": 34,
   "id": "62d769e9",
   "metadata": {},
   "outputs": [],
   "source": [
    "t = (20,40,60)"
   ]
  },
  {
   "cell_type": "code",
   "execution_count": 35,
   "id": "2d1feaae",
   "metadata": {},
   "outputs": [],
   "source": [
    "from collections import namedtuple"
   ]
  },
  {
   "cell_type": "code",
   "execution_count": 36,
   "id": "99882114",
   "metadata": {},
   "outputs": [],
   "source": [
    "Persona = namedtuple('Persona','nombre apellido edad')"
   ]
  },
  {
   "cell_type": "code",
   "execution_count": 37,
   "id": "bd4d608e",
   "metadata": {},
   "outputs": [],
   "source": [
    "p = Persona(nombre='Pepe',apellido='Ruiz',edad='27')"
   ]
  },
  {
   "cell_type": "code",
   "execution_count": 38,
   "id": "9d438461",
   "metadata": {},
   "outputs": [
    {
     "data": {
      "text/plain": [
       "'Pepe'"
      ]
     },
     "execution_count": 38,
     "metadata": {},
     "output_type": "execute_result"
    }
   ],
   "source": [
    "p.nombre"
   ]
  },
  {
   "cell_type": "markdown",
   "id": "edc53645",
   "metadata": {},
   "source": [
    "### Datetime"
   ]
  },
  {
   "cell_type": "code",
   "execution_count": 39,
   "id": "152167c7",
   "metadata": {},
   "outputs": [],
   "source": [
    "import datetime"
   ]
  },
  {
   "cell_type": "code",
   "execution_count": 41,
   "id": "6995e486",
   "metadata": {},
   "outputs": [
    {
     "data": {
      "text/plain": [
       "datetime.datetime(2021, 7, 6, 11, 42, 54, 129960)"
      ]
     },
     "execution_count": 41,
     "metadata": {},
     "output_type": "execute_result"
    }
   ],
   "source": [
    "dt = datetime.datetime.now() #Ahora\n",
    "dt"
   ]
  },
  {
   "cell_type": "code",
   "execution_count": 42,
   "id": "4289e48a",
   "metadata": {},
   "outputs": [
    {
     "data": {
      "text/plain": [
       "2021"
      ]
     },
     "execution_count": 42,
     "metadata": {},
     "output_type": "execute_result"
    }
   ],
   "source": [
    "dt.year"
   ]
  },
  {
   "cell_type": "code",
   "execution_count": 43,
   "id": "96fff3d2",
   "metadata": {},
   "outputs": [
    {
     "data": {
      "text/plain": [
       "11"
      ]
     },
     "execution_count": 43,
     "metadata": {},
     "output_type": "execute_result"
    }
   ],
   "source": [
    "dt.hour"
   ]
  },
  {
   "cell_type": "code",
   "execution_count": 44,
   "id": "88559308",
   "metadata": {},
   "outputs": [
    {
     "data": {
      "text/plain": [
       "42"
      ]
     },
     "execution_count": 44,
     "metadata": {},
     "output_type": "execute_result"
    }
   ],
   "source": [
    "dt.minute"
   ]
  },
  {
   "cell_type": "code",
   "execution_count": 45,
   "id": "df698690",
   "metadata": {},
   "outputs": [
    {
     "data": {
      "text/plain": [
       "129960"
      ]
     },
     "execution_count": 45,
     "metadata": {},
     "output_type": "execute_result"
    }
   ],
   "source": [
    "dt.microsecond"
   ]
  },
  {
   "cell_type": "code",
   "execution_count": 46,
   "id": "5ba7474b",
   "metadata": {},
   "outputs": [],
   "source": [
    "dt.tzinfo #Zona horaria"
   ]
  },
  {
   "cell_type": "code",
   "execution_count": 47,
   "id": "5e87a3d2",
   "metadata": {},
   "outputs": [
    {
     "data": {
      "text/plain": [
       "datetime.datetime(2000, 1, 1, 0, 0)"
      ]
     },
     "execution_count": 47,
     "metadata": {},
     "output_type": "execute_result"
    }
   ],
   "source": [
    "dt = datetime.datetime(2000,1,1)\n",
    "dt"
   ]
  },
  {
   "cell_type": "code",
   "execution_count": 49,
   "id": "228d3e61",
   "metadata": {},
   "outputs": [
    {
     "data": {
      "text/plain": [
       "'2021-07-06T11:53:32.110921'"
      ]
     },
     "execution_count": 49,
     "metadata": {},
     "output_type": "execute_result"
    }
   ],
   "source": [
    "dt = datetime.datetime.now()\n",
    "dt.isoformat() #Formato muchas veces utilizado"
   ]
  },
  {
   "cell_type": "code",
   "execution_count": 52,
   "id": "eca9f03a",
   "metadata": {},
   "outputs": [
    {
     "data": {
      "text/plain": [
       "'Tuesday 06 July 2021 11:53'"
      ]
     },
     "execution_count": 52,
     "metadata": {},
     "output_type": "execute_result"
    }
   ],
   "source": [
    "dt.strftime(\"%A %d %B %Y %I:%M\") #Formato de 12 horas"
   ]
  },
  {
   "cell_type": "code",
   "execution_count": 53,
   "id": "458c1505",
   "metadata": {},
   "outputs": [],
   "source": [
    "import locale"
   ]
  },
  {
   "cell_type": "code",
   "execution_count": 54,
   "id": "cd014e40",
   "metadata": {},
   "outputs": [
    {
     "data": {
      "text/plain": [
       "'Spanish_Spain.1252'"
      ]
     },
     "execution_count": 54,
     "metadata": {},
     "output_type": "execute_result"
    }
   ],
   "source": [
    "locale.setlocale(locale.LC_ALL, '')"
   ]
  },
  {
   "cell_type": "code",
   "execution_count": 55,
   "id": "78df21b8",
   "metadata": {},
   "outputs": [
    {
     "data": {
      "text/plain": [
       "'es-ES'"
      ]
     },
     "execution_count": 55,
     "metadata": {},
     "output_type": "execute_result"
    }
   ],
   "source": [
    "locale.setlocale(locale.LC_ALL, 'es-ES')"
   ]
  },
  {
   "cell_type": "code",
   "execution_count": 56,
   "id": "bcacb44a",
   "metadata": {},
   "outputs": [
    {
     "data": {
      "text/plain": [
       "'martes 06 julio 2021 11:53'"
      ]
     },
     "execution_count": 56,
     "metadata": {},
     "output_type": "execute_result"
    }
   ],
   "source": [
    "dt.strftime(\"%A %d %B %Y %I:%M\") #Formato de 12 horas, ahora en español\n"
   ]
  },
  {
   "cell_type": "markdown",
   "id": "51d0185b",
   "metadata": {},
   "source": [
    "Códigos de idiomas--> https://www.science.co.il/language/Locale-codes.php"
   ]
  },
  {
   "cell_type": "code",
   "execution_count": 57,
   "id": "a4e2e799",
   "metadata": {},
   "outputs": [
    {
     "data": {
      "text/plain": [
       "'martes 06 de julio del 2021 - 11:53'"
      ]
     },
     "execution_count": 57,
     "metadata": {},
     "output_type": "execute_result"
    }
   ],
   "source": [
    "dt.strftime(\"%A %d de %B del %Y - %H:%M\")"
   ]
  },
  {
   "cell_type": "code",
   "execution_count": 58,
   "id": "2e3b51e7",
   "metadata": {},
   "outputs": [
    {
     "data": {
      "text/plain": [
       "datetime.datetime(2021, 7, 6, 12, 15, 47, 878179)"
      ]
     },
     "execution_count": 58,
     "metadata": {},
     "output_type": "execute_result"
    }
   ],
   "source": [
    "dt = datetime.datetime.now()\n",
    "dt"
   ]
  },
  {
   "cell_type": "code",
   "execution_count": 61,
   "id": "a2ca0809",
   "metadata": {},
   "outputs": [],
   "source": [
    "#queremos sumar dos semanas al día de hoy\n",
    "t = datetime.timedelta(days=14, hours=4, seconds= 1000) #Sumamos a dias 14, a horas 4 horas..."
   ]
  },
  {
   "cell_type": "code",
   "execution_count": 62,
   "id": "979bfd87",
   "metadata": {},
   "outputs": [],
   "source": [
    "dentro_de_dos_semanas = dt + t"
   ]
  },
  {
   "cell_type": "code",
   "execution_count": 63,
   "id": "85d06409",
   "metadata": {},
   "outputs": [
    {
     "data": {
      "text/plain": [
       "'martes 20 de julio del 2021 - 16:32'"
      ]
     },
     "execution_count": 63,
     "metadata": {},
     "output_type": "execute_result"
    }
   ],
   "source": [
    "dentro_de_dos_semanas.strftime(\"%A %d de %B del %Y - %H:%M\")"
   ]
  },
  {
   "cell_type": "markdown",
   "id": "cfc5268d",
   "metadata": {},
   "source": [
    "### Módulo Math"
   ]
  },
  {
   "cell_type": "code",
   "execution_count": 64,
   "id": "890ea742",
   "metadata": {},
   "outputs": [],
   "source": [
    "import math"
   ]
  },
  {
   "cell_type": "code",
   "execution_count": 66,
   "id": "062ae86c",
   "metadata": {},
   "outputs": [
    {
     "data": {
      "text/plain": [
       "3"
      ]
     },
     "execution_count": 66,
     "metadata": {},
     "output_type": "execute_result"
    }
   ],
   "source": [
    "pi = 3.14159 #redondeo por defecto\n",
    "round(pi)"
   ]
  },
  {
   "cell_type": "code",
   "execution_count": 67,
   "id": "02ab0d95",
   "metadata": {},
   "outputs": [
    {
     "data": {
      "text/plain": [
       "4"
      ]
     },
     "execution_count": 67,
     "metadata": {},
     "output_type": "execute_result"
    }
   ],
   "source": [
    "round(3.5)"
   ]
  },
  {
   "cell_type": "code",
   "execution_count": 69,
   "id": "2accd35a",
   "metadata": {},
   "outputs": [
    {
     "data": {
      "text/plain": [
       "3"
      ]
     },
     "execution_count": 69,
     "metadata": {},
     "output_type": "execute_result"
    }
   ],
   "source": [
    "math.floor(3.5) #redondeo a la baja"
   ]
  },
  {
   "cell_type": "code",
   "execution_count": 70,
   "id": "ca6c7a56",
   "metadata": {},
   "outputs": [
    {
     "data": {
      "text/plain": [
       "4"
      ]
     },
     "execution_count": 70,
     "metadata": {},
     "output_type": "execute_result"
    }
   ],
   "source": [
    "math.ceil(pi) #redondeo al alza"
   ]
  },
  {
   "cell_type": "code",
   "execution_count": 71,
   "id": "d68ff8df",
   "metadata": {},
   "outputs": [
    {
     "data": {
      "text/plain": [
       "10"
      ]
     },
     "execution_count": 71,
     "metadata": {},
     "output_type": "execute_result"
    }
   ],
   "source": [
    "abs(-10) #valor absoluto"
   ]
  },
  {
   "cell_type": "code",
   "execution_count": 73,
   "id": "7116fa18",
   "metadata": {},
   "outputs": [
    {
     "data": {
      "text/plain": [
       "6"
      ]
     },
     "execution_count": 73,
     "metadata": {},
     "output_type": "execute_result"
    }
   ],
   "source": [
    "n = [1,2,3]\n",
    "sum(n) #Sumatorio por defecto"
   ]
  },
  {
   "cell_type": "code",
   "execution_count": 74,
   "id": "2aad59c1",
   "metadata": {},
   "outputs": [
    {
     "data": {
      "text/plain": [
       "6.0"
      ]
     },
     "execution_count": 74,
     "metadata": {},
     "output_type": "execute_result"
    }
   ],
   "source": [
    "math.fsum(n) #este es más confiable"
   ]
  },
  {
   "cell_type": "code",
   "execution_count": 77,
   "id": "4f1f478e",
   "metadata": {},
   "outputs": [
    {
     "data": {
      "text/plain": [
       "100"
      ]
     },
     "execution_count": 77,
     "metadata": {},
     "output_type": "execute_result"
    }
   ],
   "source": [
    "math.trunc(100.123456) #machaca los decimales"
   ]
  },
  {
   "cell_type": "code",
   "execution_count": 78,
   "id": "52c94a96",
   "metadata": {},
   "outputs": [
    {
     "data": {
      "text/plain": [
       "8.0"
      ]
     },
     "execution_count": 78,
     "metadata": {},
     "output_type": "execute_result"
    }
   ],
   "source": [
    "math.pow(2,3) #Potencia"
   ]
  },
  {
   "cell_type": "code",
   "execution_count": 80,
   "id": "6aa934a9",
   "metadata": {},
   "outputs": [
    {
     "data": {
      "text/plain": [
       "8"
      ]
     },
     "execution_count": 80,
     "metadata": {},
     "output_type": "execute_result"
    }
   ],
   "source": [
    "2 **3 #potencia"
   ]
  },
  {
   "cell_type": "code",
   "execution_count": 82,
   "id": "9325f865",
   "metadata": {},
   "outputs": [
    {
     "data": {
      "text/plain": [
       "3.0"
      ]
     },
     "execution_count": 82,
     "metadata": {},
     "output_type": "execute_result"
    }
   ],
   "source": [
    "math.sqrt(9) #raíz cuadrada"
   ]
  },
  {
   "cell_type": "code",
   "execution_count": 83,
   "id": "fbf2922f",
   "metadata": {},
   "outputs": [
    {
     "data": {
      "text/plain": [
       "3.141592653589793"
      ]
     },
     "execution_count": 83,
     "metadata": {},
     "output_type": "execute_result"
    }
   ],
   "source": [
    "math.pi # nos da el número pi"
   ]
  },
  {
   "cell_type": "code",
   "execution_count": 84,
   "id": "2d24e7d7",
   "metadata": {},
   "outputs": [
    {
     "data": {
      "text/plain": [
       "2.718281828459045"
      ]
     },
     "execution_count": 84,
     "metadata": {},
     "output_type": "execute_result"
    }
   ],
   "source": [
    "math.e #nos da el número e"
   ]
  },
  {
   "cell_type": "markdown",
   "id": "39feb7cd",
   "metadata": {},
   "source": [
    "### Módulo Random"
   ]
  },
  {
   "cell_type": "code",
   "execution_count": 85,
   "id": "d5c76db8",
   "metadata": {},
   "outputs": [],
   "source": [
    "import random"
   ]
  },
  {
   "cell_type": "code",
   "execution_count": 91,
   "id": "0996e4fb",
   "metadata": {},
   "outputs": [
    {
     "data": {
      "text/plain": [
       "0.12067615780881447"
      ]
     },
     "execution_count": 91,
     "metadata": {},
     "output_type": "execute_result"
    }
   ],
   "source": [
    "random.random() #num aleatorio >= 0 y < 1"
   ]
  },
  {
   "cell_type": "code",
   "execution_count": 93,
   "id": "7d903059",
   "metadata": {},
   "outputs": [
    {
     "data": {
      "text/plain": [
       "7.95591419942247"
      ]
     },
     "execution_count": 93,
     "metadata": {},
     "output_type": "execute_result"
    }
   ],
   "source": [
    "random.uniform(1,10) # >= 1 y <10 num random entre 1 y 10"
   ]
  },
  {
   "cell_type": "code",
   "execution_count": 96,
   "id": "4bed19dd",
   "metadata": {},
   "outputs": [
    {
     "data": {
      "text/plain": [
       "8"
      ]
     },
     "execution_count": 96,
     "metadata": {},
     "output_type": "execute_result"
    }
   ],
   "source": [
    "random.randrange(10) #>= 0 y <10 num enteremos random"
   ]
  },
  {
   "cell_type": "code",
   "execution_count": 97,
   "id": "c7a103a0",
   "metadata": {},
   "outputs": [
    {
     "data": {
      "text/plain": [
       "87"
      ]
     },
     "execution_count": 97,
     "metadata": {},
     "output_type": "execute_result"
    }
   ],
   "source": [
    "random.randrange(0,101) # randoms de 0 a 101 enteros"
   ]
  },
  {
   "cell_type": "code",
   "execution_count": 110,
   "id": "861b081a",
   "metadata": {},
   "outputs": [
    {
     "data": {
      "text/plain": [
       "80"
      ]
     },
     "execution_count": 110,
     "metadata": {},
     "output_type": "execute_result"
    }
   ],
   "source": [
    "random.randrange(0,100, 2) #randoms de 0 a 100, múltiplos de 2 (números pares)"
   ]
  },
  {
   "cell_type": "code",
   "execution_count": 112,
   "id": "510eff8d",
   "metadata": {},
   "outputs": [
    {
     "data": {
      "text/plain": [
       "'o'"
      ]
     },
     "execution_count": 112,
     "metadata": {},
     "output_type": "execute_result"
    }
   ],
   "source": [
    "random.choice(\"Hola Mundo\") #elige letra aleatoria de cadena"
   ]
  },
  {
   "cell_type": "code",
   "execution_count": 113,
   "id": "be67b1dc",
   "metadata": {},
   "outputs": [
    {
     "data": {
      "text/plain": [
       "2"
      ]
     },
     "execution_count": 113,
     "metadata": {},
     "output_type": "execute_result"
    }
   ],
   "source": [
    "l = [1,2,3,4,5]\n",
    "random.choice(l)"
   ]
  },
  {
   "cell_type": "code",
   "execution_count": 115,
   "id": "dd301275",
   "metadata": {},
   "outputs": [
    {
     "data": {
      "text/plain": [
       "[3, 2, 1, 5, 4]"
      ]
     },
     "execution_count": 115,
     "metadata": {},
     "output_type": "execute_result"
    }
   ],
   "source": [
    "random.shuffle(l) #baraja la lista, la desordena\n",
    "l"
   ]
  },
  {
   "cell_type": "code",
   "execution_count": 116,
   "id": "4f39eb0f",
   "metadata": {},
   "outputs": [
    {
     "data": {
      "text/plain": [
       "[5, 2]"
      ]
     },
     "execution_count": 116,
     "metadata": {},
     "output_type": "execute_result"
    }
   ],
   "source": [
    "random.sample(l, 2) #dos elementos aleatorios de la lista"
   ]
  },
  {
   "cell_type": "markdown",
   "id": "29f8d65d",
   "metadata": {},
   "source": [
    "# FICHEROS"
   ]
  },
  {
   "cell_type": "code",
   "execution_count": 117,
   "id": "f442576c",
   "metadata": {},
   "outputs": [],
   "source": [
    "#from io import open esto se necesita cuando se usan scripts, en jupyter no hace falta."
   ]
  },
  {
   "cell_type": "code",
   "execution_count": 118,
   "id": "a1e90f1e",
   "metadata": {},
   "outputs": [],
   "source": [
    "texto = \"texto\\n otra línea\"\n",
    "\n",
    "fichero = open('NombreFichero.txt','w') #W es modo de escritura (Write), esto borra todo lo que exista en un fichero\n",
    "\n",
    "#Con esto hemos creado el fichero"
   ]
  },
  {
   "cell_type": "code",
   "execution_count": 120,
   "id": "74e296b1",
   "metadata": {},
   "outputs": [],
   "source": [
    "fichero.write(texto) #Escribir texto en fichero\n",
    "\n",
    "fichero.close()"
   ]
  },
  {
   "cell_type": "code",
   "execution_count": 121,
   "id": "59653b97",
   "metadata": {},
   "outputs": [],
   "source": [
    "del(fichero) #esto borra para poder seguir utilizandolo, es por usar jupyter\n",
    "# En un editor normal valdría con el .close()"
   ]
  },
  {
   "cell_type": "code",
   "execution_count": 127,
   "id": "20f03218",
   "metadata": {},
   "outputs": [],
   "source": [
    "# Abrir fichero sin necesidad de machacar lo que haya dentro\n",
    "fichero = open('NombreFichero.txt','r') #lectura"
   ]
  },
  {
   "cell_type": "code",
   "execution_count": 128,
   "id": "484bfeee",
   "metadata": {},
   "outputs": [],
   "source": [
    "#Comando para guardar todo el contenido del fichero.\n",
    "texto = fichero.read()"
   ]
  },
  {
   "cell_type": "code",
   "execution_count": 129,
   "id": "da1ef207",
   "metadata": {},
   "outputs": [],
   "source": [
    "fichero.close()"
   ]
  },
  {
   "cell_type": "code",
   "execution_count": 130,
   "id": "64ff345f",
   "metadata": {},
   "outputs": [
    {
     "name": "stdout",
     "output_type": "stream",
     "text": [
      "texto\n",
      " otra líneatexto\n",
      " otra línea\n"
     ]
    }
   ],
   "source": [
    "print(texto)"
   ]
  },
  {
   "cell_type": "code",
   "execution_count": 132,
   "id": "60630ae7",
   "metadata": {},
   "outputs": [
    {
     "ename": "NameError",
     "evalue": "name 'fichero' is not defined",
     "output_type": "error",
     "traceback": [
      "\u001b[1;31m---------------------------------------------------------------------------\u001b[0m",
      "\u001b[1;31mNameError\u001b[0m                                 Traceback (most recent call last)",
      "\u001b[1;32m<ipython-input-132-989bb6c06075>\u001b[0m in \u001b[0;36m<module>\u001b[1;34m\u001b[0m\n\u001b[1;32m----> 1\u001b[1;33m \u001b[1;32mdel\u001b[0m\u001b[1;33m(\u001b[0m\u001b[0mfichero\u001b[0m\u001b[1;33m)\u001b[0m\u001b[1;33m\u001b[0m\u001b[1;33m\u001b[0m\u001b[0m\n\u001b[0m",
      "\u001b[1;31mNameError\u001b[0m: name 'fichero' is not defined"
     ]
    }
   ],
   "source": [
    "del(fichero)"
   ]
  },
  {
   "cell_type": "code",
   "execution_count": 133,
   "id": "409d0efa",
   "metadata": {},
   "outputs": [
    {
     "data": {
      "text/plain": [
       "'texto\\n otra líneatexto\\n otra línea'"
      ]
     },
     "execution_count": 133,
     "metadata": {},
     "output_type": "execute_result"
    }
   ],
   "source": [
    "texto"
   ]
  },
  {
   "cell_type": "code",
   "execution_count": 134,
   "id": "b31972a2",
   "metadata": {},
   "outputs": [],
   "source": [
    "#almacenar en una lista las líneas del fichero\n",
    "fichero = open('NombreFichero.txt','r') #lectura\n",
    "\n",
    "lineas = fichero.readlines()"
   ]
  },
  {
   "cell_type": "code",
   "execution_count": 135,
   "id": "0093f1aa",
   "metadata": {},
   "outputs": [],
   "source": [
    "fichero.close()"
   ]
  },
  {
   "cell_type": "code",
   "execution_count": 136,
   "id": "06e96088",
   "metadata": {},
   "outputs": [],
   "source": [
    "del(fichero)"
   ]
  },
  {
   "cell_type": "code",
   "execution_count": 137,
   "id": "2ed8b996",
   "metadata": {},
   "outputs": [
    {
     "name": "stdout",
     "output_type": "stream",
     "text": [
      "['texto\\n', ' otra líneatexto\\n', ' otra línea']\n"
     ]
    }
   ],
   "source": [
    "print(lineas)"
   ]
  },
  {
   "cell_type": "code",
   "execution_count": 139,
   "id": "531311a9",
   "metadata": {},
   "outputs": [
    {
     "data": {
      "text/plain": [
       "14"
      ]
     },
     "execution_count": 139,
     "metadata": {},
     "output_type": "execute_result"
    }
   ],
   "source": [
    "# Queremos añadir alguna línea al principio o al final\n",
    "fichero = open('NombreFichero.txt', 'a') #abrir en modo de extensión (Append)\n",
    "# con el Append podemos abrir un archivo sin que exista (lo crea automáticamente vacío)\n",
    "fichero.write(\"\\n última línea\")"
   ]
  },
  {
   "cell_type": "code",
   "execution_count": 140,
   "id": "d2167e0d",
   "metadata": {},
   "outputs": [],
   "source": [
    "fichero.close()"
   ]
  },
  {
   "cell_type": "code",
   "execution_count": 149,
   "id": "e2324225",
   "metadata": {},
   "outputs": [],
   "source": [
    "del(fichero)"
   ]
  },
  {
   "cell_type": "code",
   "execution_count": 142,
   "id": "198428ff",
   "metadata": {},
   "outputs": [
    {
     "data": {
      "text/plain": [
       "'texto\\n'"
      ]
     },
     "execution_count": 142,
     "metadata": {},
     "output_type": "execute_result"
    }
   ],
   "source": [
    "fichero = open('NombreFichero.txt', 'r')\n",
    "\n"
   ]
  },
  {
   "cell_type": "code",
   "execution_count": 145,
   "id": "316f04fb",
   "metadata": {},
   "outputs": [
    {
     "data": {
      "text/plain": [
       "' última línea'"
      ]
     },
     "execution_count": 145,
     "metadata": {},
     "output_type": "execute_result"
    }
   ],
   "source": [
    "#Si ejecutamos este código varias veces vemos que nos va leyendo cada vez una línea diferente\n",
    "#Esto es porque el puntero va moviendose.\n",
    "l= fichero.readline() \n",
    "l"
   ]
  },
  {
   "cell_type": "code",
   "execution_count": 148,
   "id": "03bf2191",
   "metadata": {},
   "outputs": [],
   "source": [
    "fichero.close()"
   ]
  },
  {
   "cell_type": "code",
   "execution_count": 147,
   "id": "2666d8a6",
   "metadata": {},
   "outputs": [
    {
     "name": "stdout",
     "output_type": "stream",
     "text": [
      "texto\n",
      "\n",
      " otra líneatexto\n",
      "\n",
      " otra línea\n",
      "\n",
      " última línea\n"
     ]
    }
   ],
   "source": [
    "with open('NombreFichero.txt', 'r') as fichero: #Recorrer el fichero\n",
    "    for linea in fichero:\n",
    "        print(linea)"
   ]
  },
  {
   "cell_type": "markdown",
   "id": "80de1938",
   "metadata": {},
   "source": [
    "### En esto es importante el puntero"
   ]
  },
  {
   "cell_type": "code",
   "execution_count": 150,
   "id": "4b0e9d28",
   "metadata": {},
   "outputs": [],
   "source": [
    "fichero = open('NombreFichero.txt', 'r')"
   ]
  },
  {
   "cell_type": "code",
   "execution_count": 151,
   "id": "819abede",
   "metadata": {},
   "outputs": [
    {
     "data": {
      "text/plain": [
       "10"
      ]
     },
     "execution_count": 151,
     "metadata": {},
     "output_type": "execute_result"
    }
   ],
   "source": [
    "fichero.seek(10) #Indicamos que el puntero se vaya al caracter nº 10."
   ]
  },
  {
   "cell_type": "code",
   "execution_count": 152,
   "id": "2d5cbfa1",
   "metadata": {},
   "outputs": [
    {
     "data": {
      "text/plain": [
       "'ra líneatexto\\n otra línea\\n última línea'"
      ]
     },
     "execution_count": 152,
     "metadata": {},
     "output_type": "execute_result"
    }
   ],
   "source": [
    "fichero.read() #si leemos, nos lee desde donde está el puntero"
   ]
  },
  {
   "cell_type": "code",
   "execution_count": 154,
   "id": "89ccd215",
   "metadata": {},
   "outputs": [
    {
     "data": {
      "text/plain": [
       "''"
      ]
     },
     "execution_count": 154,
     "metadata": {},
     "output_type": "execute_result"
    }
   ],
   "source": [
    "fichero.read() # No lee porque el puntero está en el final del fichero"
   ]
  },
  {
   "cell_type": "code",
   "execution_count": 158,
   "id": "52684a39",
   "metadata": {},
   "outputs": [
    {
     "data": {
      "text/plain": [
       "0"
      ]
     },
     "execution_count": 158,
     "metadata": {},
     "output_type": "execute_result"
    }
   ],
   "source": [
    "fichero.seek(0)"
   ]
  },
  {
   "cell_type": "code",
   "execution_count": 159,
   "id": "bd6ff1bc",
   "metadata": {},
   "outputs": [
    {
     "data": {
      "text/plain": [
       "'texto'"
      ]
     },
     "execution_count": 159,
     "metadata": {},
     "output_type": "execute_result"
    }
   ],
   "source": [
    "fichero.read(5) # lee solo 5 caracteres"
   ]
  },
  {
   "cell_type": "code",
   "execution_count": 163,
   "id": "0f287c21",
   "metadata": {},
   "outputs": [
    {
     "data": {
      "text/plain": [
       "0"
      ]
     },
     "execution_count": 163,
     "metadata": {},
     "output_type": "execute_result"
    }
   ],
   "source": [
    "fichero.seek(0)"
   ]
  },
  {
   "cell_type": "code",
   "execution_count": 164,
   "id": "79be3532",
   "metadata": {},
   "outputs": [
    {
     "data": {
      "text/plain": [
       "24.0"
      ]
     },
     "execution_count": 164,
     "metadata": {},
     "output_type": "execute_result"
    }
   ],
   "source": [
    "texto = fichero.read()\n",
    "# Guardamos el contenido en texto para posicionarnos en la mitad con seek\n",
    "fichero.seek(len(texto) /2)"
   ]
  },
  {
   "cell_type": "code",
   "execution_count": 165,
   "id": "f497ea85",
   "metadata": {},
   "outputs": [
    {
     "data": {
      "text/plain": [
       "'\\n otra línea\\n última línea'"
      ]
     },
     "execution_count": 165,
     "metadata": {},
     "output_type": "execute_result"
    }
   ],
   "source": [
    "fichero.read()"
   ]
  },
  {
   "cell_type": "code",
   "execution_count": 166,
   "id": "25ece5e0",
   "metadata": {},
   "outputs": [
    {
     "data": {
      "text/plain": [
       "0"
      ]
     },
     "execution_count": 166,
     "metadata": {},
     "output_type": "execute_result"
    }
   ],
   "source": [
    "fichero.seek(0)"
   ]
  },
  {
   "cell_type": "code",
   "execution_count": 167,
   "id": "858276f9",
   "metadata": {},
   "outputs": [
    {
     "data": {
      "text/plain": [
       "6"
      ]
     },
     "execution_count": 167,
     "metadata": {},
     "output_type": "execute_result"
    }
   ],
   "source": [
    "fichero.seek(len(fichero.readline())) # Pone el puntero al final de la primera línea"
   ]
  },
  {
   "cell_type": "code",
   "execution_count": 168,
   "id": "fb458e65",
   "metadata": {},
   "outputs": [],
   "source": [
    "fichero.close()"
   ]
  },
  {
   "cell_type": "code",
   "execution_count": 169,
   "id": "c1b5ea15",
   "metadata": {},
   "outputs": [],
   "source": [
    "del(fichero)"
   ]
  },
  {
   "cell_type": "code",
   "execution_count": 170,
   "id": "25b4edab",
   "metadata": {},
   "outputs": [],
   "source": [
    "fichero = open('NombreFichero.txt', 'r+') #Abre el fichero en modo lectura y escritura y posiciona el puntero al principio "
   ]
  },
  {
   "cell_type": "code",
   "execution_count": 171,
   "id": "1936bc56",
   "metadata": {},
   "outputs": [
    {
     "data": {
      "text/plain": [
       "13"
      ]
     },
     "execution_count": 171,
     "metadata": {},
     "output_type": "execute_result"
    }
   ],
   "source": [
    "fichero.write('Inicio nuevo\\n')"
   ]
  },
  {
   "cell_type": "code",
   "execution_count": 172,
   "id": "f505ae73",
   "metadata": {},
   "outputs": [],
   "source": [
    "fichero.close()"
   ]
  },
  {
   "cell_type": "code",
   "execution_count": 173,
   "id": "45d0ea75",
   "metadata": {},
   "outputs": [],
   "source": [
    "#modificar un línea específica\n",
    "fichero = open('NombreFichero.txt', 'r+') "
   ]
  },
  {
   "cell_type": "code",
   "execution_count": 174,
   "id": "76c7a42b",
   "metadata": {},
   "outputs": [],
   "source": [
    "lineas = fichero.readlines()"
   ]
  },
  {
   "cell_type": "code",
   "execution_count": 175,
   "id": "209fe1f3",
   "metadata": {},
   "outputs": [
    {
     "data": {
      "text/plain": [
       "['Inicio nuevo\\n', 'íneatexto\\n', ' otra línea\\n', ' última línea']"
      ]
     },
     "execution_count": 175,
     "metadata": {},
     "output_type": "execute_result"
    }
   ],
   "source": [
    "lineas"
   ]
  },
  {
   "cell_type": "code",
   "execution_count": 177,
   "id": "26a9cbeb",
   "metadata": {},
   "outputs": [],
   "source": [
    "lineas[2] = \"Línea modificada\\n\""
   ]
  },
  {
   "cell_type": "code",
   "execution_count": 178,
   "id": "11a0c462",
   "metadata": {},
   "outputs": [
    {
     "data": {
      "text/plain": [
       "0"
      ]
     },
     "execution_count": 178,
     "metadata": {},
     "output_type": "execute_result"
    }
   ],
   "source": [
    "fichero.seek(0)"
   ]
  },
  {
   "cell_type": "code",
   "execution_count": 179,
   "id": "2517944f",
   "metadata": {},
   "outputs": [],
   "source": [
    "fichero.writelines(lineas)"
   ]
  },
  {
   "cell_type": "code",
   "execution_count": 180,
   "id": "61a97326",
   "metadata": {},
   "outputs": [],
   "source": [
    "fichero.close()"
   ]
  },
  {
   "cell_type": "markdown",
   "id": "d8eed73c",
   "metadata": {},
   "source": [
    "# Los ficheros binarios son los de audio, voz, etc... estos nos los da pero usa la librería pickle para gestionarlos"
   ]
  },
  {
   "cell_type": "code",
   "execution_count": 23,
   "id": "d942bb4e",
   "metadata": {},
   "outputs": [],
   "source": [
    "#Escritura de colecciones\n",
    "import pickle\n",
    "\n",
    "# Podemos guardar lo que queramos, listas, diccionarios, tuplas...\n",
    "lista = [1,2,3,4,5]\n",
    "\n",
    "# Escritura en modo binario, vacía el fichero si existe\n",
    "fichero = open('lista.pckl','wb')\n",
    "\n",
    "# Escribe la colección en el fichero \n",
    "pickle.dump(lista, fichero) \n",
    "\n",
    "fichero.close()"
   ]
  },
  {
   "cell_type": "code",
   "execution_count": 26,
   "id": "58899abe",
   "metadata": {},
   "outputs": [],
   "source": [
    "#Lectura de colecciones\n",
    "\n",
    "fichero = open('lista.pckl','rb') \n",
    "\n",
    "# Cargamos los datos del fichero. \n",
    "lista_fichero = pickle.load(fichero)\n",
    "print(lista_fichero)\n",
    "\n",
    "fichero.close()"
   ]
  },
  {
   "cell_type": "markdown",
   "id": "3490957b",
   "metadata": {},
   "source": [
    "### Ejemplo catálogo películas (ejemplo con gestión de clases + ficheros)"
   ]
  },
  {
   "cell_type": "code",
   "execution_count": null,
   "id": "8275c715",
   "metadata": {},
   "outputs": [],
   "source": [
    "from io import open\n",
    "import pickle\n",
    "\n",
    "class Pelicula:\n",
    "\n",
    "    # Constructor de clase\n",
    "    def __init__(self, titulo, duracion, lanzamiento):\n",
    "        self.titulo = titulo\n",
    "        self.duracion = duracion\n",
    "        self.lanzamiento = lanzamiento\n",
    "        print('Se ha creado la película:',self.titulo)\n",
    "\n",
    "    def __str__(self):\n",
    "        return '{} ({})'.format(self.titulo, self.lanzamiento)\n",
    "\n",
    "\n",
    "class Catalogo:\n",
    "\n",
    "    peliculas = []\n",
    "\n",
    "    # Constructor de clase\n",
    "    def __init__(self):\n",
    "        self.cargar()\n",
    "\n",
    "    def agregar(self,p):\n",
    "        self.peliculas.append(p)\n",
    "        self.guardar()\n",
    "\n",
    "    def mostrar(self):\n",
    "        if len(self.peliculas) == 0:\n",
    "            print(\"El catálogo está vacío\")\n",
    "            return\n",
    "        for p in self.peliculas:\n",
    "            print(p)\n",
    "\n",
    "    def cargar(self):\n",
    "        fichero = open('catalogo.pckl', 'ab+') #Append binario, el + es que también es de lectura. Si no existe lo crea.\n",
    "        fichero.seek(0) #el append pone el puntero al final, por lo que tenemos que ponerlo al principio\n",
    "        try:\n",
    "            self.peliculas = pickle.load(fichero)\n",
    "        except:\n",
    "            print(\"El fichero está vacío\")\n",
    "        finally:\n",
    "            fichero.close()\n",
    "            print(\"Se han cargado {} películas\".format(len(self.peliculas)))\n",
    "\n",
    "    def guardar(self):\n",
    "        fichero = open('catalogo.pckl', 'wb')\n",
    "        pickle.dump(self.peliculas, fichero)\n",
    "        fichero.close()"
   ]
  },
  {
   "cell_type": "code",
   "execution_count": 30,
   "id": "b9f04e7f",
   "metadata": {},
   "outputs": [],
   "source": [
    "# Creamos un catálogo\n",
    "c = Catalogo()\n",
    "\n",
    "# Mostramos el contenido\n",
    "c.mostrar()\n",
    "\n",
    "# Agregamos unas películas\n",
    "c.agregar( Pelicula(\"El Padrino\", 175, 1972) )\n",
    "c.agregar( Pelicula(\"El Padrino: Parte 2\", 202, 1974) )\n",
    "\n",
    "# Mostramos el catálogo de nuevo\n",
    "c.mostrar()\n",
    "\n",
    "# Borramos el catálogo de la memoria ram (persistirá el fichero)\n",
    "del(c)"
   ]
  },
  {
   "cell_type": "markdown",
   "id": "b688fbcc",
   "metadata": {},
   "source": [
    "## Ficheros CSV (comma-separated-values. Valores separados por comas)"
   ]
  },
  {
   "cell_type": "code",
   "execution_count": 32,
   "id": "1d3bbf5a",
   "metadata": {},
   "outputs": [],
   "source": [
    "import csv\n",
    "\n",
    "contactos = [ #Serían 3 columnas, NOmbre, puesto, email\n",
    "    (\"Manuel\", \"Desarrollador Web\", \"manuel@ejemplo.com\"),\n",
    "    (\"Lorena\", \"Gestora de proyectos\", \"lorena@ejemplo.com\"),\n",
    "    (\"Javier\", \"Analista de datos\", \"javier@ejemplo.com\"),\n",
    "    (\"Marta\", \"Experta en Python\", \"marta@ejemplo.com\")\n",
    "]\n",
    "\n",
    "with open(\"contactos.csv\", \"w\", newline=\"\\n\") as csvfile: #newline indica como queremos separar cada tupla de la lista\n",
    "    #El with cierra el archivo sin tu tenerlo que cerrar.\n",
    "    writer = csv.writer(csvfile, delimiter=\",\") #El delimitador es el caracter para separar cada columna\n",
    "    for contacto in contactos:\n",
    "        writer.writerow(contacto)"
   ]
  },
  {
   "cell_type": "code",
   "execution_count": null,
   "id": "0f96be36",
   "metadata": {},
   "outputs": [],
   "source": [
    "#El anterior era escritura, ahora el reader(lectura)\n",
    "with open(\"contactos.csv\", newline=\"\\n\") as csvfile:\n",
    "    reader = csv.reader(csvfile, delimiter=\",\")\n",
    "    for nombre, empleo, email in reader:\n",
    "        print(nombre, empleo, email)"
   ]
  },
  {
   "cell_type": "code",
   "execution_count": null,
   "id": "72ffb9e4",
   "metadata": {},
   "outputs": [],
   "source": [
    "#Mismo proceso pero utilizando diccionarios\n",
    "import csv\n",
    "\n",
    "contactos = [\n",
    "    (\"Manuel\", \"Desarrollador Web\", \"manuel@ejemplo.com\"),\n",
    "    (\"Lorena\", \"Gestora de proyectos\", \"lorena@ejemplo.com\"),\n",
    "    (\"Javier\", \"Analista de datos\", \"javier@ejemplo.com\"),\n",
    "    (\"Marta\", \"Experta en Python\", \"marta@ejemplo.com\")\n",
    "]\n",
    "#Escritura\n",
    "with open(\"contactos.csv\", \"w\", newline=\"\\n\") as csvfile:\n",
    "    campos = [\"nombre\", \"empleo\", \"email\"]\n",
    "    writer = csv.DictWriter(csvfile, fieldnames=campos)\n",
    "    writer.writeheader()\n",
    "    for nombre, empleo, email in contactos:\n",
    "        writer.writerow({\n",
    "            \"nombre\": nombre, \"empleo\": empleo, \"email\": email\n",
    "        })"
   ]
  },
  {
   "cell_type": "code",
   "execution_count": 1,
   "id": "0ee63691",
   "metadata": {},
   "outputs": [],
   "source": [
    "#Lectura\n",
    "with open(\"contactos.csv\", newline=\"\\n\") as csvfile:\n",
    "    reader = csv.DictReader(csvfile)\n",
    "    for contacto in reader:\n",
    "        print(contacto[\"nombre\"], contacto[\"empleo\"], contacto[\"email\"])"
   ]
  },
  {
   "cell_type": "markdown",
   "id": "c4732603",
   "metadata": {},
   "source": [
    " ## Ahora con ficheros JSON(javascript object nation)"
   ]
  },
  {
   "cell_type": "code",
   "execution_count": 3,
   "id": "66b64b59",
   "metadata": {},
   "outputs": [],
   "source": [
    "import json\n",
    "\n",
    "contactos = [\n",
    "    (\"Manuel\", \"Desarrollador Web\", \"manuel@ejemplo.com\"),\n",
    "    (\"Lorena\", \"Gestora de proyectos\", \"lorena@ejemplo.com\"),\n",
    "    (\"Javier\", \"Analista de datos\", \"javier@ejemplo.com\"),\n",
    "    (\"Marta\", \"Experta en Python\", \"marta@ejemplo.com\")\n",
    "]\n",
    "\n",
    "datos = []\n",
    "\n",
    "for nombre, empleo, email in contactos:\n",
    "    datos.append({\"nombre\":nombre, \"empleo\":empleo, \"email\":email})\n",
    "\n",
    "with open(\"contactos.json\", \"w\") as jsonfile:\n",
    "    json.dump(datos, jsonfile)"
   ]
  },
  {
   "cell_type": "code",
   "execution_count": 4,
   "id": "09fcfcba",
   "metadata": {},
   "outputs": [
    {
     "name": "stdout",
     "output_type": "stream",
     "text": [
      "Manuel Desarrollador Web manuel@ejemplo.com\n",
      "Lorena Gestora de proyectos lorena@ejemplo.com\n",
      "Javier Analista de datos javier@ejemplo.com\n",
      "Marta Experta en Python marta@ejemplo.com\n"
     ]
    }
   ],
   "source": [
    "with open(\"contactos.json\") as jsonfile:\n",
    "    datos = json.load(jsonfile)\n",
    "    for contacto in datos:\n",
    "        print(contacto[\"nombre\"], contacto[\"empleo\"], contacto[\"email\"])"
   ]
  },
  {
   "cell_type": "markdown",
   "id": "5558fed7",
   "metadata": {},
   "source": [
    "# Python tiene una librería  llamada tkinter (no funciona en jupyter) para la interfaz gráfica, esta librería se compone de widgets, vamos a ir viendo algunos de estos widgets"
   ]
  },
  {
   "cell_type": "markdown",
   "id": "9b836c99",
   "metadata": {},
   "source": [
    "Nota para ejecutar scripts gráficos en Spyder\n",
    "Buenas! Si vais a utilizar Spyder para los scripts gráficos en esta sección, debéis añadir una línea extra al final de los programas:\n",
    "\n",
    "...\n",
    "root.mainloop()\n",
    "root.destroy()   # esta es el comando que debéis poner\n",
    "En Spyder hay un bug que cuando cierras el programa gráfico mediante un comando no se cierra correctamente y se queda trabado. Recordad siempre poner root.destroy() al final de todo para destruir correctamente el programa y que Spyder siga funcionando."
   ]
  },
  {
   "cell_type": "markdown",
   "id": "6c5d3a2a",
   "metadata": {},
   "source": [
    "### TK, widget base"
   ]
  },
  {
   "cell_type": "code",
   "execution_count": 8,
   "id": "fc881c80",
   "metadata": {},
   "outputs": [],
   "source": [
    "from tkinter import *\n",
    "\n",
    "# Configuración de la raíz\n",
    "root = Tk()\n",
    "root.title(\"Hola mundo\") #Título de la ventana\n",
    "root.resizable(1,1) #Si es un 1 es que se puede redimensionar en ancho o en alto, en este caso las dos están en 1. SI es 0 no se\n",
    "#podría redimensionar\n",
    "root.iconbitmap('ImagenAPoner.ico') #Pone un icono arriba en la ventana\n",
    "\n",
    "# Finalmente bucle de la aplicación\n",
    "root.mainloop()"
   ]
  },
  {
   "cell_type": "markdown",
   "id": "237e2343",
   "metadata": {},
   "source": [
    " Un truco para esconder la terminal y sólo enseñar la interfaz gráfica es renombrar el archivo a Nombre.pyw. De esto no voy a dar nada mas. Sólo saber que existe."
   ]
  },
  {
   "cell_type": "markdown",
   "id": "77622467",
   "metadata": {},
   "source": [
    "## SQL"
   ]
  },
  {
   "cell_type": "code",
   "execution_count": 1,
   "id": "1bbb1165",
   "metadata": {},
   "outputs": [],
   "source": [
    "# Importamos el módulo\n",
    "import sqlite3\n",
    "\n",
    "# Nos conectamos a la base de datos ejemplo.db (la crea si no existe)\n",
    "conexion = sqlite3.connect('ejemplo.db')\n",
    "\n",
    "# Cerramos la conexión, si no la cerramos quedará abierta\n",
    "# y no podremos gestionar el fichero\n",
    "conexion.close()"
   ]
  },
  {
   "cell_type": "code",
   "execution_count": 2,
   "id": "0063ef20",
   "metadata": {},
   "outputs": [],
   "source": [
    "#Crear tabla\n",
    "\n",
    "import sqlite3\n",
    "\n",
    "conexion = sqlite3.connect('ejemplo.db')\n",
    "\n",
    "# Creamos el cursor\n",
    "cursor = conexion.cursor()\n",
    "\n",
    "# Ahora crearemos una tabla de usuarios con nombres, edades y emails\n",
    "cursor.execute(\"CREATE TABLE IF NOT EXISTS usuarios \" \\\n",
    "    \"(nombre VARCHAR(100), edad INTEGER, email VARCHAR(100))\")\n",
    "\n",
    "# Guardamos los cambios haciendo un commit\n",
    "conexion.commit()\n",
    "\n",
    "conexion.close()\n"
   ]
  },
  {
   "cell_type": "code",
   "execution_count": 3,
   "id": "e894b23d",
   "metadata": {},
   "outputs": [],
   "source": [
    "#Insertar \n",
    "import sqlite3\n",
    "\n",
    "conexion = sqlite3.connect('ejemplo.db')\n",
    "cursor = conexion.cursor()\n",
    "\n",
    "# Insertamos un registro en la tabla de usuarios\n",
    "cursor.execute(\"INSERT INTO usuarios VALUES \" \\\n",
    "    \"('Hector', 27, 'hector@ejemplo.com')\")\n",
    "\n",
    "# Guardamos los cambios haciendo un commit\n",
    "conexion.commit()\n",
    "\n",
    "conexion.close()"
   ]
  },
  {
   "cell_type": "code",
   "execution_count": 4,
   "id": "eb6411a2",
   "metadata": {},
   "outputs": [
    {
     "name": "stdout",
     "output_type": "stream",
     "text": [
      "<sqlite3.Cursor object at 0x0000022995AF7C70>\n",
      "('Hector', 27, 'hector@ejemplo.com')\n"
     ]
    }
   ],
   "source": [
    "#Lectura\n",
    "import sqlite3\n",
    "\n",
    "conexion = sqlite3.connect('ejemplo.db')\n",
    "cursor = conexion.cursor()\n",
    "\n",
    "# Recuperamos los registros de la tabla de usuarios\n",
    "cursor.execute(\"SELECT * FROM usuarios\")\n",
    "\n",
    "# Mostrar el cursos a ver que hay ?\n",
    "print(cursor)\n",
    "\n",
    "# Recorremos el primer registro con el método fetchone, devuelve una tupla\n",
    "usuario = cursor.fetchone()\n",
    "print(usuario)\n",
    "\n",
    "conexion.close()"
   ]
  },
  {
   "cell_type": "code",
   "execution_count": 5,
   "id": "db393f1a",
   "metadata": {},
   "outputs": [],
   "source": [
    "#Inserción múltiple\n",
    "import sqlite3\n",
    "\n",
    "conexion = sqlite3.connect('ejemplo.db')\n",
    "cursor = conexion.cursor()\n",
    "\n",
    "# Creamos una lista con varios usuarios\n",
    "usuarios = [('Mario', 51, 'mario@ejemplo.com'),\n",
    "            ('Mercedes', 38, 'mercedes@ejemplo.com'),\n",
    "            ('Juan', 19, 'juan@ejemplo.com')]\n",
    "\n",
    "# Ahora utilizamos el método executemany() para insertar varios\n",
    "cursor.executemany(\"INSERT INTO usuarios VALUES (?,?,?)\", usuarios)\n",
    "\n",
    "# Guardamos los cambios haciendo un commit\n",
    "conexion.commit()\n",
    "\n",
    "conexion.close()"
   ]
  },
  {
   "cell_type": "code",
   "execution_count": 6,
   "id": "b10c9e47",
   "metadata": {},
   "outputs": [
    {
     "name": "stdout",
     "output_type": "stream",
     "text": [
      "('Hector', 27, 'hector@ejemplo.com')\n",
      "('Mario', 51, 'mario@ejemplo.com')\n",
      "('Mercedes', 38, 'mercedes@ejemplo.com')\n",
      "('Juan', 19, 'juan@ejemplo.com')\n"
     ]
    }
   ],
   "source": [
    "#Lectura múltiple\n",
    "import sqlite3\n",
    "\n",
    "conexion = sqlite3.connect('ejemplo.db')\n",
    "cursor = conexion.cursor()\n",
    "\n",
    "# Recuperamos los registros de la tabla de usuarios\n",
    "cursor.execute(\"SELECT * FROM usuarios\")\n",
    "\n",
    "# Recorremos todos los registros con fetchall\n",
    "# y los volcamos en una lista de usuarios\n",
    "usuarios = cursor.fetchall()\n",
    "\n",
    "# Ahora podemos recorrer todos los usuarios\n",
    "for usuario in usuarios:\n",
    "    print(usuario)\n",
    "\n",
    "conexion.close()"
   ]
  },
  {
   "cell_type": "code",
   "execution_count": 7,
   "id": "84e5fdaf",
   "metadata": {},
   "outputs": [],
   "source": [
    "#PRIMARY KEY para el DNI, ahora sólo puedes poner el mismo DNI una vez.\n",
    "import sqlite3\n",
    "\n",
    "conexion = sqlite3.connect('usuarios.db')\n",
    "\n",
    "cursor = conexion.cursor()\n",
    "\n",
    "# Creamos un campo dni como clave primaria\n",
    "cursor.execute('''CREATE TABLE IF NOT EXISTS usuarios (\n",
    "                    dni VARCHAR(9) PRIMARY KEY,\n",
    "                    nombre VARCHAR(100), \n",
    "                    edad INTEGER,\n",
    "                    email VARCHAR(100))''')\n",
    "\n",
    "usuarios = [('11111111A', 'Hector', 27, 'hector@ejemplo.com'),\n",
    "            ('22222222B', 'Mario', 51, 'mario@ejemplo.com'),\n",
    "            ('33333333C', 'Mercedes', 38, 'mercedes@ejemplo.com'),\n",
    "            ('44444444D', 'Juan', 19, 'juan@ejemplo.com')]\n",
    "\n",
    "cursor.executemany(\"INSERT INTO usuarios VALUES (?,?,?,?)\", usuarios)\n",
    "\n",
    "conexion.commit()\n",
    "conexion.close()"
   ]
  },
  {
   "cell_type": "code",
   "execution_count": 8,
   "id": "a793626d",
   "metadata": {},
   "outputs": [],
   "source": [
    "#Autoincremental y otras configuraciones\n",
    "import sqlite3\n",
    "\n",
    "conexion = sqlite3.connect('productos.db')\n",
    "\n",
    "cursor = conexion.cursor()\n",
    "\n",
    "# Las cláusulas not null indican que no puede ser campos vacíos\n",
    "cursor.execute('''CREATE TABLE IF NOT EXISTS productos (\n",
    "                    id INTEGER PRIMARY KEY AUTOINCREMENT, \n",
    "                    nombre VARCHAR(100) NOT NULL, \n",
    "                    marca VARCHAR(50) NOT NULL, \n",
    "                    precio FLOAT NOT NULL)''')\n",
    "\n",
    "conexion.close()"
   ]
  },
  {
   "cell_type": "code",
   "execution_count": 9,
   "id": "f1a28288",
   "metadata": {},
   "outputs": [],
   "source": [
    "#Al realizar ahora la inserción de valores, como hay un valor incremental hay que poner ese valor como null\n",
    "import sqlite3\n",
    "\n",
    "conexion = sqlite3.connect('productos.db')\n",
    "\n",
    "cursor = conexion.cursor()\n",
    "\n",
    "productos = [('Teclado', 'Logitech', 19.95),\n",
    "            ('Pantalla 19\"','LG', 89.95),\n",
    "            ('Altavoces 2.1','LG', 24.95),]\n",
    "\n",
    "cursor.executemany(\"INSERT INTO productos VALUES (null,?,?,?)\", productos)\n",
    "\n",
    "conexion.commit()\n",
    "conexion.close()"
   ]
  },
  {
   "cell_type": "code",
   "execution_count": 10,
   "id": "9e5be867",
   "metadata": {},
   "outputs": [
    {
     "name": "stdout",
     "output_type": "stream",
     "text": [
      "(1, 'Teclado', 'Logitech', 19.95)\n",
      "(2, 'Pantalla 19\"', 'LG', 89.95)\n",
      "(3, 'Altavoces 2.1', 'LG', 24.95)\n"
     ]
    }
   ],
   "source": [
    "#Ahora podemos consultar nuestros productos fácilmente con su identificador único:\n",
    "import sqlite3\n",
    "\n",
    "conexion = sqlite3.connect('productos.db')\n",
    "cursor = conexion.cursor()\n",
    "\n",
    "# Recuperamos los registros de la tabla de usuarios\n",
    "cursor.execute(\"SELECT * FROM productos\")\n",
    "\n",
    "# Recorremos todos los registros con fetchall\n",
    "# y los volcamos en una lista de usuarios\n",
    "productos = cursor.fetchall()\n",
    "\n",
    "# Ahora podemos recorrer todos los productos\n",
    "for producto in productos:\n",
    "    print(producto)\n",
    "\n",
    "conexion.close()"
   ]
  },
  {
   "cell_type": "code",
   "execution_count": 11,
   "id": "908c5b6c",
   "metadata": {},
   "outputs": [
    {
     "ename": "OperationalError",
     "evalue": "no such table: usuarios",
     "output_type": "error",
     "traceback": [
      "\u001b[1;31m---------------------------------------------------------------------------\u001b[0m",
      "\u001b[1;31mOperationalError\u001b[0m                          Traceback (most recent call last)",
      "\u001b[1;32m<ipython-input-11-bcd98d95b822>\u001b[0m in \u001b[0;36m<module>\u001b[1;34m\u001b[0m\n\u001b[0;32m      6\u001b[0m \u001b[1;33m\u001b[0m\u001b[0m\n\u001b[0;32m      7\u001b[0m \u001b[1;31m# Recuperamos un registro de la tabla de usuarios\u001b[0m\u001b[1;33m\u001b[0m\u001b[1;33m\u001b[0m\u001b[1;33m\u001b[0m\u001b[0m\n\u001b[1;32m----> 8\u001b[1;33m \u001b[0mcursor\u001b[0m\u001b[1;33m.\u001b[0m\u001b[0mexecute\u001b[0m\u001b[1;33m(\u001b[0m\u001b[1;34m\"SELECT * FROM usuarios WHERE id=1\"\u001b[0m\u001b[1;33m)\u001b[0m\u001b[1;33m\u001b[0m\u001b[1;33m\u001b[0m\u001b[0m\n\u001b[0m\u001b[0;32m      9\u001b[0m \u001b[1;33m\u001b[0m\u001b[0m\n\u001b[0;32m     10\u001b[0m \u001b[0musuario\u001b[0m \u001b[1;33m=\u001b[0m \u001b[0mcursor\u001b[0m\u001b[1;33m.\u001b[0m\u001b[0mfetchone\u001b[0m\u001b[1;33m(\u001b[0m\u001b[1;33m)\u001b[0m\u001b[1;33m\u001b[0m\u001b[1;33m\u001b[0m\u001b[0m\n",
      "\u001b[1;31mOperationalError\u001b[0m: no such table: usuarios"
     ]
    }
   ],
   "source": [
    "#Consulta con WHERE\n",
    "import sqlite3\n",
    "\n",
    "conexion = sqlite3.connect('usuarios_autoincremental.db')\n",
    "cursor = conexion.cursor()\n",
    "\n",
    "# Recuperamos un registro de la tabla de usuarios\n",
    "cursor.execute(\"SELECT * FROM usuarios WHERE id=1\")\n",
    "\n",
    "usuario = cursor.fetchone()\n",
    "print(usuario)\n",
    "\n",
    "conexion.close()"
   ]
  },
  {
   "cell_type": "code",
   "execution_count": 12,
   "id": "c53196b6",
   "metadata": {},
   "outputs": [
    {
     "ename": "OperationalError",
     "evalue": "no such table: usuarios",
     "output_type": "error",
     "traceback": [
      "\u001b[1;31m---------------------------------------------------------------------------\u001b[0m",
      "\u001b[1;31mOperationalError\u001b[0m                          Traceback (most recent call last)",
      "\u001b[1;32m<ipython-input-12-ba0bc0e7f90b>\u001b[0m in \u001b[0;36m<module>\u001b[1;34m\u001b[0m\n\u001b[0;32m      6\u001b[0m \u001b[1;33m\u001b[0m\u001b[0m\n\u001b[0;32m      7\u001b[0m \u001b[1;31m# Actualizamos un registro\u001b[0m\u001b[1;33m\u001b[0m\u001b[1;33m\u001b[0m\u001b[1;33m\u001b[0m\u001b[0m\n\u001b[1;32m----> 8\u001b[1;33m cursor.execute(\"UPDATE usuarios SET nombre='Hector Costa' \" \\\n\u001b[0m\u001b[0;32m      9\u001b[0m     \"WHERE dni='11111111A'\")\n\u001b[0;32m     10\u001b[0m \u001b[1;33m\u001b[0m\u001b[0m\n",
      "\u001b[1;31mOperationalError\u001b[0m: no such table: usuarios"
     ]
    }
   ],
   "source": [
    "#Modificación con UPDATE\n",
    "import sqlite3\n",
    "\n",
    "conexion = sqlite3.connect('usuarios_autoincremental.db')\n",
    "cursor = conexion.cursor()\n",
    "\n",
    "# Actualizamos un registro\n",
    "cursor.execute(\"UPDATE usuarios SET nombre='Hector Costa' \" \\\n",
    "    \"WHERE dni='11111111A'\")\n",
    "\n",
    "# Ahora lo consultamos de nuevo\n",
    "cursor.execute(\"SELECT * FROM usuarios WHERE dni='11111111A'\")\n",
    "usuario = cursor.fetchone()\n",
    "print(usuario)\n",
    "\n",
    "conexion.commit()\n",
    "conexion.close()"
   ]
  },
  {
   "cell_type": "code",
   "execution_count": 13,
   "id": "10cadc72",
   "metadata": {},
   "outputs": [
    {
     "ename": "OperationalError",
     "evalue": "no such table: usuarios",
     "output_type": "error",
     "traceback": [
      "\u001b[1;31m---------------------------------------------------------------------------\u001b[0m",
      "\u001b[1;31mOperationalError\u001b[0m                          Traceback (most recent call last)",
      "\u001b[1;32m<ipython-input-13-b3db4f8bac2b>\u001b[0m in \u001b[0;36m<module>\u001b[1;34m\u001b[0m\n\u001b[0;32m      6\u001b[0m \u001b[1;33m\u001b[0m\u001b[0m\n\u001b[0;32m      7\u001b[0m \u001b[1;31m# Creamos un registro de prueba\u001b[0m\u001b[1;33m\u001b[0m\u001b[1;33m\u001b[0m\u001b[1;33m\u001b[0m\u001b[0m\n\u001b[1;32m----> 8\u001b[1;33m cursor.execute(\"INSERT INTO usuarios VALUES \" \\\n\u001b[0m\u001b[0;32m      9\u001b[0m     \"(null, '55555555E', 'Fernando', 31, 'fernando@ejemplo.com')\")\n\u001b[0;32m     10\u001b[0m \u001b[1;33m\u001b[0m\u001b[0m\n",
      "\u001b[1;31mOperationalError\u001b[0m: no such table: usuarios"
     ]
    }
   ],
   "source": [
    "#Borrado con DELETE\n",
    "import sqlite3\n",
    "\n",
    "conexion = sqlite3.connect('usuarios_autoincremental.db')\n",
    "cursor = conexion.cursor()\n",
    "\n",
    "# Creamos un registro de prueba\n",
    "cursor.execute(\"INSERT INTO usuarios VALUES \" \\\n",
    "    \"(null, '55555555E', 'Fernando', 31, 'fernando@ejemplo.com')\")\n",
    "\n",
    "# Consultamos los usuarios\n",
    "for usuario in cursor.execute(\"SELECT * FROM usuarios\"):\n",
    "    print(usuario)\n",
    "\n",
    "# Ahora lo borramos\n",
    "cursor.execute(\"DELETE FROM usuarios WHERE dni='55555555E'\")\n",
    "\n",
    "print() # Espacio en blanco\n",
    "\n",
    "# Consultamos de nuevo los usuarios\n",
    "for usuario in cursor.execute(\"SELECT * FROM usuarios\"):\n",
    "    print(usuario)\n",
    "\n",
    "conexion.commit()\n",
    "conexion.close()"
   ]
  },
  {
   "cell_type": "markdown",
   "id": "70c8780b",
   "metadata": {},
   "source": [
    "# Funcionalidades avanzados"
   ]
  },
  {
   "cell_type": "code",
   "execution_count": 1,
   "id": "1030f51d",
   "metadata": {},
   "outputs": [
    {
     "data": {
      "text/plain": [
       "True"
      ]
     },
     "execution_count": 1,
     "metadata": {},
     "output_type": "execute_result"
    }
   ],
   "source": [
    "#Estas dos expresiones son equivalentes\n",
    "a = 1 < 2 and 2 < 3\n",
    "b = 1 < 2 < 3\n"
   ]
  },
  {
   "cell_type": "code",
   "execution_count": 3,
   "id": "d6b941a5",
   "metadata": {},
   "outputs": [
    {
     "name": "stdout",
     "output_type": "stream",
     "text": [
      "['c', 'a', 's', 'a']\n"
     ]
    }
   ],
   "source": [
    "# Comprensión de listas\n",
    "# Método tradicional\n",
    "lista = []\n",
    "for letra in 'casa':\n",
    "    lista.append(letra)\n",
    "    \n",
    "print(lista)"
   ]
  },
  {
   "cell_type": "code",
   "execution_count": 5,
   "id": "dab46e85",
   "metadata": {},
   "outputs": [
    {
     "name": "stdout",
     "output_type": "stream",
     "text": [
      "['c', 'a', 's', 'a']\n"
     ]
    }
   ],
   "source": [
    "# Método con comprensión de listas\n",
    "lista = [letra for letra in 'casa']\n",
    "\n",
    "print(lista)"
   ]
  },
  {
   "cell_type": "code",
   "execution_count": 6,
   "id": "08c733e0",
   "metadata": {},
   "outputs": [
    {
     "name": "stdout",
     "output_type": "stream",
     "text": [
      "[0, 2, 4, 6, 8, 10]\n"
     ]
    }
   ],
   "source": [
    "#Otro ejemplo(lista con condición): queremos los múltiplos de 2 de 0 a 10\n",
    "lista = []\n",
    "\n",
    "for numero in range(0,11):\n",
    "    if numero % 2 == 0:\n",
    "        lista.append(numero)\n",
    "        \n",
    "print(lista)"
   ]
  },
  {
   "cell_type": "code",
   "execution_count": 7,
   "id": "9d558589",
   "metadata": {},
   "outputs": [
    {
     "name": "stdout",
     "output_type": "stream",
     "text": [
      "[0, 2, 4, 6, 8, 10]\n"
     ]
    }
   ],
   "source": [
    "#Método con comprensión de listas\n",
    "lista = [numero for numero in range(0,11) if numero % 2 == 0]\n",
    "print(lista)"
   ]
  },
  {
   "cell_type": "code",
   "execution_count": 8,
   "id": "dc1b8fef",
   "metadata": {},
   "outputs": [
    {
     "name": "stdout",
     "output_type": "stream",
     "text": [
      "[0, 4, 16, 36, 64, 100]\n"
     ]
    }
   ],
   "source": [
    "#Otro ejemplo(dos listas): una lista nos da la potencia de 2 de los números 0 a 10 y la otra lista los coge si son múltiplos de 2\n",
    "\n",
    "lista = []\n",
    "\n",
    "for numero in range(0,11):\n",
    "    lista.append(numero**2)\n",
    "    \n",
    "pares = []\n",
    "\n",
    "for numero in lista:\n",
    "    if numero % 2 == 0:\n",
    "        pares.append(numero)\n",
    "        \n",
    "print(pares)"
   ]
  },
  {
   "cell_type": "code",
   "execution_count": 10,
   "id": "28e3f8cd",
   "metadata": {},
   "outputs": [
    {
     "name": "stdout",
     "output_type": "stream",
     "text": [
      "[0, 4, 16, 36, 64, 100]\n"
     ]
    }
   ],
   "source": [
    "#Método con comprensión de listas\n",
    "pares = [numero for numero in [numero**2 for numero in range(0,11)] if numero % 2 == 0]\n",
    "\n",
    "print(pares)"
   ]
  },
  {
   "cell_type": "code",
   "execution_count": null,
   "id": "14e3b8db",
   "metadata": {},
   "outputs": [],
   "source": []
  },
  {
   "cell_type": "code",
   "execution_count": null,
   "id": "8ae10d53",
   "metadata": {},
   "outputs": [],
   "source": []
  }
 ],
 "metadata": {
  "kernelspec": {
   "display_name": "Python 3",
   "language": "python",
   "name": "python3"
  },
  "language_info": {
   "codemirror_mode": {
    "name": "ipython",
    "version": 3
   },
   "file_extension": ".py",
   "mimetype": "text/x-python",
   "name": "python",
   "nbconvert_exporter": "python",
   "pygments_lexer": "ipython3",
   "version": "3.9.1"
  }
 },
 "nbformat": 4,
 "nbformat_minor": 5
}
