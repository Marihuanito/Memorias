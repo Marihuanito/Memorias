{
 "cells": [
  {
   "cell_type": "markdown",
   "id": "76c14f3a",
   "metadata": {},
   "source": [
    "# El aprendiendo2 está hecho porque vamos a hacer funciones decoradoras y se necesita ir reiniciando el jupyter. arriba está el botón de reiniciar."
   ]
  },
  {
   "cell_type": "markdown",
   "id": "40899650",
   "metadata": {},
   "source": [
    "## Funciones decoradoras"
   ]
  },
  {
   "cell_type": "code",
   "execution_count": 1,
   "id": "73116fd1",
   "metadata": {},
   "outputs": [],
   "source": [
    "def hola():\n",
    "\n",
    "    def bienvenido():\n",
    "        return \"Hola!\"\n",
    "\n",
    "    return bienvenido"
   ]
  },
  {
   "cell_type": "code",
   "execution_count": 2,
   "id": "b0c4e22d",
   "metadata": {},
   "outputs": [
    {
     "ename": "NameError",
     "evalue": "name 'bienvenido' is not defined",
     "output_type": "error",
     "traceback": [
      "\u001b[1;31m---------------------------------------------------------------------------\u001b[0m",
      "\u001b[1;31mNameError\u001b[0m                                 Traceback (most recent call last)",
      "\u001b[1;32m<ipython-input-2-f4d5000fa2cb>\u001b[0m in \u001b[0;36m<module>\u001b[1;34m\u001b[0m\n\u001b[0;32m      1\u001b[0m \u001b[1;31m# Si intentamos llamar a la función bienvenido obtendremos error pues no es global\u001b[0m\u001b[1;33m\u001b[0m\u001b[1;33m\u001b[0m\u001b[1;33m\u001b[0m\u001b[0m\n\u001b[1;32m----> 2\u001b[1;33m \u001b[0mbienvenido\u001b[0m\u001b[1;33m\u001b[0m\u001b[1;33m\u001b[0m\u001b[0m\n\u001b[0m",
      "\u001b[1;31mNameError\u001b[0m: name 'bienvenido' is not defined"
     ]
    }
   ],
   "source": [
    "# Si intentamos llamar a la función bienvenido obtendremos error pues no es global\n",
    "bienvenido"
   ]
  },
  {
   "cell_type": "code",
   "execution_count": 3,
   "id": "e520a91c",
   "metadata": {},
   "outputs": [
    {
     "data": {
      "text/plain": [
       "<function __main__.hola.<locals>.bienvenido()>"
      ]
     },
     "execution_count": 3,
     "metadata": {},
     "output_type": "execute_result"
    }
   ],
   "source": [
    "#En cambio si llamamos a hola\n",
    "hola()"
   ]
  },
  {
   "cell_type": "code",
   "execution_count": 4,
   "id": "152ee12f",
   "metadata": {},
   "outputs": [
    {
     "name": "stdout",
     "output_type": "stream",
     "text": [
      "{'bienvenido': <function hola.<locals>.bienvenido at 0x0000024444C44DC0>}\n"
     ]
    }
   ],
   "source": [
    "#Si utilizamos una función reservada locals() obtendremos un diccionario con todas las definiciones dentro del espacio local del bloque en el que estamos\n",
    "def hola():\n",
    "\n",
    "    def bienvenido():\n",
    "        return \"Hola!\"\n",
    "\n",
    "    print( locals() )  # Mostramos el ámbito local, haría referencia no sólo a las funciones, también variables etc..\n",
    "\n",
    "hola()\n",
    "#Como vemos se nos muestra un diccionario, aquí encontraremos la función bienvenido(). Pero no se ejecutan, no tenemos como\n",
    "#resultado el Hola"
   ]
  },
  {
   "cell_type": "code",
   "execution_count": 5,
   "id": "9f4e494f",
   "metadata": {},
   "outputs": [
    {
     "name": "stdout",
     "output_type": "stream",
     "text": [
      "{'__name__': '__main__', '__doc__': 'Automatically created module for IPython interactive environment', '__package__': None, '__loader__': None, '__spec__': None, '__builtin__': <module 'builtins' (built-in)>, '__builtins__': <module 'builtins' (built-in)>, '_ih': ['', 'def hola():\\n\\n    def bienvenido():\\n        return \"Hola!\"\\n\\n    return bienvenido', '# Si intentamos llamar a la función bienvenido obtendremos error pues no es global\\nbienvenido', '#En cambio si llamamos a hola\\nhola()', '#Si utilizamos una función reservada locals() obtendremos un diccionario con todas las definiciones dentro del espacio local del bloque en el que estamos\\ndef hola():\\n\\n    def bienvenido():\\n        return \"Hola!\"\\n\\n    print( locals() )  # Mostramos el ámbito local\\n\\nhola()', '# Para ver lo que tiene el ámbito global utilizariamos globals()\\nlista = [1,2,3]\\n\\ndef hola():\\n\\n    numero = 50\\n\\n    def bienvenido():\\n        return \"Hola!\"\\n\\n    print( globals() )  # Mostramos el ámbito global\\n\\nhola()'], '_oh': {3: <function hola.<locals>.bienvenido at 0x0000024444CE69D0>}, '_dh': ['D:\\\\Usuarios\\\\Mantenimiento\\\\Cursos online\\\\CursoPython'], 'In': ['', 'def hola():\\n\\n    def bienvenido():\\n        return \"Hola!\"\\n\\n    return bienvenido', '# Si intentamos llamar a la función bienvenido obtendremos error pues no es global\\nbienvenido', '#En cambio si llamamos a hola\\nhola()', '#Si utilizamos una función reservada locals() obtendremos un diccionario con todas las definiciones dentro del espacio local del bloque en el que estamos\\ndef hola():\\n\\n    def bienvenido():\\n        return \"Hola!\"\\n\\n    print( locals() )  # Mostramos el ámbito local\\n\\nhola()', '# Para ver lo que tiene el ámbito global utilizariamos globals()\\nlista = [1,2,3]\\n\\ndef hola():\\n\\n    numero = 50\\n\\n    def bienvenido():\\n        return \"Hola!\"\\n\\n    print( globals() )  # Mostramos el ámbito global\\n\\nhola()'], 'Out': {3: <function hola.<locals>.bienvenido at 0x0000024444CE69D0>}, 'get_ipython': <bound method InteractiveShell.get_ipython of <ipykernel.zmqshell.ZMQInteractiveShell object at 0x0000024444B600D0>>, 'exit': <IPython.core.autocall.ZMQExitAutocall object at 0x0000024444C0D2E0>, 'quit': <IPython.core.autocall.ZMQExitAutocall object at 0x0000024444C0D2E0>, '_': <function hola.<locals>.bienvenido at 0x0000024444CE69D0>, '__': '', '___': '', '_i': '#Si utilizamos una función reservada locals() obtendremos un diccionario con todas las definiciones dentro del espacio local del bloque en el que estamos\\ndef hola():\\n\\n    def bienvenido():\\n        return \"Hola!\"\\n\\n    print( locals() )  # Mostramos el ámbito local\\n\\nhola()', '_ii': '#En cambio si llamamos a hola\\nhola()', '_iii': '# Si intentamos llamar a la función bienvenido obtendremos error pues no es global\\nbienvenido', '_i1': 'def hola():\\n\\n    def bienvenido():\\n        return \"Hola!\"\\n\\n    return bienvenido', 'hola': <function hola at 0x0000024444CE6CA0>, '_i2': '# Si intentamos llamar a la función bienvenido obtendremos error pues no es global\\nbienvenido', '_i3': '#En cambio si llamamos a hola\\nhola()', '_3': <function hola.<locals>.bienvenido at 0x0000024444CE69D0>, '_i4': '#Si utilizamos una función reservada locals() obtendremos un diccionario con todas las definiciones dentro del espacio local del bloque en el que estamos\\ndef hola():\\n\\n    def bienvenido():\\n        return \"Hola!\"\\n\\n    print( locals() )  # Mostramos el ámbito local\\n\\nhola()', '_i5': '# Para ver lo que tiene el ámbito global utilizariamos globals()\\nlista = [1,2,3]\\n\\ndef hola():\\n\\n    numero = 50\\n\\n    def bienvenido():\\n        return \"Hola!\"\\n\\n    print( globals() )  # Mostramos el ámbito global\\n\\nhola()', 'lista': [1, 2, 3]}\n"
     ]
    }
   ],
   "source": [
    "# Para ver lo que tiene el ámbito global utilizariamos globals()\n",
    "lista = [1,2,3]\n",
    "\n",
    "def hola():\n",
    "\n",
    "    numero = 50\n",
    "\n",
    "    def bienvenido():\n",
    "        return \"Hola!\"\n",
    "\n",
    "    print( globals() )  # Mostramos el ámbito global\n",
    "\n",
    "hola()"
   ]
  },
  {
   "cell_type": "code",
   "execution_count": 6,
   "id": "d33e89a4",
   "metadata": {},
   "outputs": [
    {
     "data": {
      "text/plain": [
       "dict_keys(['__name__', '__doc__', '__package__', '__loader__', '__spec__', '__builtin__', '__builtins__', '_ih', '_oh', '_dh', 'In', 'Out', 'get_ipython', 'exit', 'quit', '_', '__', '___', '_i', '_ii', '_iii', '_i1', 'hola', '_i2', '_i3', '_3', '_i4', '_i5', 'lista', '_i6'])"
      ]
     },
     "execution_count": 6,
     "metadata": {},
     "output_type": "execute_result"
    }
   ],
   "source": [
    "#Si mostramos únicamente las claves del diccionario globals(), quizá sería más entendible:\n",
    "globals().keys()"
   ]
  },
  {
   "cell_type": "code",
   "execution_count": 8,
   "id": "8cdf3325",
   "metadata": {},
   "outputs": [
    {
     "data": {
      "text/plain": [
       "'Hola!'"
      ]
     },
     "execution_count": 8,
     "metadata": {},
     "output_type": "execute_result"
    }
   ],
   "source": [
    "def hola():\n",
    "\n",
    "    def bienvenido():\n",
    "        return \"Hola!\"\n",
    "    \n",
    "    return bienvenido\n",
    "\n",
    "\n",
    "hola()()\n",
    "#Con esto tendríamos como resultado la ejecución de la función"
   ]
  },
  {
   "cell_type": "code",
   "execution_count": 10,
   "id": "d1e3aa23",
   "metadata": {},
   "outputs": [
    {
     "data": {
      "text/plain": [
       "'Hola!'"
      ]
     },
     "execution_count": 10,
     "metadata": {},
     "output_type": "execute_result"
    }
   ],
   "source": [
    "#Como de esta forma queda raro, lo que se hace es guardarlo en una varibale y ejecutar esa variable\n",
    "bienvenido = hola()\n",
    "bienvenido()"
   ]
  },
  {
   "cell_type": "code",
   "execution_count": 11,
   "id": "4a911b88",
   "metadata": {},
   "outputs": [
    {
     "name": "stdout",
     "output_type": "stream",
     "text": [
      "Hola!\n"
     ]
    }
   ],
   "source": [
    "# La función de una función decoradora es hacer algo con ella sin tener que modificarla/retocarla. Por ello se la pasariamos\n",
    "# como argumento a otra función\n",
    "\n",
    "def hola():\n",
    "    return \"Hola!\"\n",
    "\n",
    "def test(funcion):\n",
    "    print( funcion() )\n",
    "\n",
    "test(hola)\n"
   ]
  },
  {
   "cell_type": "code",
   "execution_count": 12,
   "id": "d93e0bdd",
   "metadata": {},
   "outputs": [],
   "source": [
    "#Una función decoradora es una función que envuelve la ejecución de otra función y permite extender su comportamiento.\n",
    "#Están pensadas para reutilazarlas gracias a una sintaxis de ejecución mucho más simple.\n",
    "#Imaginaros estas dos funciones sencillas:\n",
    "def hola():\n",
    "    print(\"Hola!\")\n",
    "\n",
    "def adios():\n",
    "    print(\"Adiós!\")\n",
    "#Y queremos queremos crear un decorador para monitorizar cuando se ejecutan las dos funciones, avisando antes y después.\n",
    "\n",
    "#Para crear una función decoradora tenemos que recibir la función a ejecutar, y envolver su ejecución con el código a extender:"
   ]
  },
  {
   "cell_type": "code",
   "execution_count": 13,
   "id": "3a71b717",
   "metadata": {},
   "outputs": [],
   "source": [
    "def monitorizar(funcion):\n",
    "\n",
    "    def decorar():\n",
    "        print(\"\\t* Se está apunto de ejecutar la función:\", \n",
    "            funcion.__name__)\n",
    "        funcion()\n",
    "        print(\"\\t* Se ha finalizado de ejecutar la función:\", \n",
    "            funcion.__name__)\n",
    "\n",
    "    return decorar\n",
    "\n",
    "def adios():\n",
    "    print(\"Adiós!\")\n",
    "#Ahora para realizar la monitorización deberíamos llamar al monitor ejecutando la función enviada y devuelta:"
   ]
  },
  {
   "cell_type": "code",
   "execution_count": 14,
   "id": "4a8d89b8",
   "metadata": {},
   "outputs": [
    {
     "name": "stdout",
     "output_type": "stream",
     "text": [
      "\t* Se está apunto de ejecutar la función: hola\n",
      "Hola!\n",
      "\t* Se ha finalizado de ejecutar la función: hola\n"
     ]
    }
   ],
   "source": [
    "monitorizar(hola)()"
   ]
  },
  {
   "cell_type": "code",
   "execution_count": 15,
   "id": "aeca3ea6",
   "metadata": {},
   "outputs": [],
   "source": [
    "#Sin embargo esto no es muy cómodo, y ahí es cuando aparece la sintaxis\n",
    "#que nos permite configurar una función decoradora en una función normal:\n",
    "@monitorizar\n",
    "def hola():\n",
    "    print(\"Hola!\")\n",
    "\n",
    "@monitorizar\n",
    "def adios():\n",
    "    print(\"Adiós!\")"
   ]
  },
  {
   "cell_type": "code",
   "execution_count": 16,
   "id": "f9d7d9e1",
   "metadata": {},
   "outputs": [
    {
     "name": "stdout",
     "output_type": "stream",
     "text": [
      "\t* Se está apunto de ejecutar la función: hola\n",
      "Hola!\n",
      "\t* Se ha finalizado de ejecutar la función: hola\n",
      "\n",
      "\t* Se está apunto de ejecutar la función: adios\n",
      "Adiós!\n",
      "\t* Se ha finalizado de ejecutar la función: adios\n"
     ]
    }
   ],
   "source": [
    "hola()\n",
    "print()\n",
    "adios()"
   ]
  },
  {
   "cell_type": "code",
   "execution_count": 17,
   "id": "0918e641",
   "metadata": {},
   "outputs": [
    {
     "ename": "TypeError",
     "evalue": "decorar() takes 0 positional arguments but 1 was given",
     "output_type": "error",
     "traceback": [
      "\u001b[1;31m---------------------------------------------------------------------------\u001b[0m",
      "\u001b[1;31mTypeError\u001b[0m                                 Traceback (most recent call last)",
      "\u001b[1;32m<ipython-input-17-626687edcd81>\u001b[0m in \u001b[0;36m<module>\u001b[1;34m\u001b[0m\n\u001b[0;32m      4\u001b[0m     \u001b[0mprint\u001b[0m\u001b[1;33m(\u001b[0m\u001b[0mtexto\u001b[0m\u001b[1;33m)\u001b[0m\u001b[1;33m\u001b[0m\u001b[1;33m\u001b[0m\u001b[0m\n\u001b[0;32m      5\u001b[0m \u001b[1;33m\u001b[0m\u001b[0m\n\u001b[1;32m----> 6\u001b[1;33m \u001b[0msaludar\u001b[0m\u001b[1;33m(\u001b[0m\u001b[1;34m\"Hola\"\u001b[0m\u001b[1;33m)\u001b[0m\u001b[1;33m\u001b[0m\u001b[1;33m\u001b[0m\u001b[0m\n\u001b[0m",
      "\u001b[1;31mTypeError\u001b[0m: decorar() takes 0 positional arguments but 1 was given"
     ]
    }
   ],
   "source": [
    "# Si queremos meter argumentos, el código no nos va a funcionar\n",
    "@monitorizar\n",
    "def saludar(texto):\n",
    "    print(texto)\n",
    "\n",
    "saludar(\"Hola\")"
   ]
  },
  {
   "cell_type": "code",
   "execution_count": 18,
   "id": "fc20347b",
   "metadata": {},
   "outputs": [
    {
     "name": "stdout",
     "output_type": "stream",
     "text": [
      "\t* Se está apunto de ejecutar la función: hola\n",
      "Hola Héctor!\n",
      "\t* Se ha finalizado de ejecutar la función: hola\n",
      "\n",
      "\t* Se está apunto de ejecutar la función: adios\n",
      "Adiós Héctor!\n",
      "\t* Se ha finalizado de ejecutar la función: adios\n"
     ]
    }
   ],
   "source": [
    "#Entonces para que funciones es necesario utilizar los punteros.\n",
    "def monitorizar_args(funcion):\n",
    "\n",
    "    def decorar(*args,**kwargs):\n",
    "        print(\"\\t* Se está apunto de ejecutar la función:\", \n",
    "            funcion.__name__)\n",
    "        funcion(*args,**kwargs)\n",
    "        print(\"\\t* Se ha finalizado de ejecutar la función:\", \n",
    "            funcion.__name__)\n",
    "\n",
    "    return decorar\n",
    "\n",
    "@monitorizar_args\n",
    "def hola(nombre):\n",
    "    print(\"Hola {}!\".format(nombre))\n",
    "\n",
    "@monitorizar_args\n",
    "def adios(nombre):\n",
    "    print(\"Adiós {}!\".format(nombre))\n",
    "\n",
    "hola(\"Héctor\")\n",
    "print()\n",
    "adios(\"Héctor\")"
   ]
  },
  {
   "cell_type": "markdown",
   "id": "038bba19",
   "metadata": {},
   "source": [
    "## Funciones lambda\n",
    "Si empiezo diciendo que las funciones o expresiones lambda sirven para crear funciones anónimas, posiblemente me diréis ¿qué me estás contando?, así que vamos a tomarlo con calma, pues estamos ante unas de las funcionalidades más potentes de Python a la vez que más confusas para los principiantes.\n",
    "\n",
    "Una función anónima, como su nombre indica es una función sin nombre. ¿Es posible ejecutar una función sin referenciar un nombre? Pues sí, en Python podemos ejecutar una función sin definirla con def. De hecho son similares pero con una diferencia fundamental:\n",
    "\n",
    "El contenido de una función lambda debe ser una única expresión en lugar de un bloque de acciones.\n",
    "\n",
    "Y es que más allá del sentido de función que tenemos, con su nombre y sus acciones internas, una función en su sentido más trivial significa realizar algo sobre algo. Por tanto podríamos decir que, mientras las funciones anónimas lambda sirven para realizar funciones simples, las funciones definidas con def sirven para manejar tareas más extensas.\n",
    "\n",
    "Si deconstruimos una función sencilla, podemos llegar a una función lambda. Por ejemplo tomad la siguiente función para doblar un valor:"
   ]
  },
  {
   "cell_type": "code",
   "execution_count": 1,
   "id": "5d1b5f03",
   "metadata": {},
   "outputs": [
    {
     "data": {
      "text/plain": [
       "4"
      ]
     },
     "execution_count": 1,
     "metadata": {},
     "output_type": "execute_result"
    }
   ],
   "source": [
    "def doblar(num):\n",
    "    resultado = num*2\n",
    "    return resultado\n",
    "\n",
    "doblar(2)"
   ]
  },
  {
   "cell_type": "code",
   "execution_count": 2,
   "id": "a4df3436",
   "metadata": {},
   "outputs": [],
   "source": [
    "#La simplificamos\n",
    "def doblar(num):\n",
    "    return num*2"
   ]
  },
  {
   "cell_type": "code",
   "execution_count": 3,
   "id": "bd5ef6a6",
   "metadata": {},
   "outputs": [],
   "source": [
    "#Aún más simplificada\n",
    "def doblar(num): return num*2"
   ]
  },
  {
   "cell_type": "markdown",
   "id": "ae6f5a91",
   "metadata": {},
   "source": [
    "Esta notación simple es la que una función lambda intenta replicar, fijaros, vamos a convertir la función en una función anónima:"
   ]
  },
  {
   "cell_type": "code",
   "execution_count": 4,
   "id": "d346561a",
   "metadata": {},
   "outputs": [
    {
     "data": {
      "text/plain": [
       "<function __main__.<lambda>(num)>"
      ]
     },
     "execution_count": 4,
     "metadata": {},
     "output_type": "execute_result"
    }
   ],
   "source": [
    "lambda num: num*2"
   ]
  },
  {
   "cell_type": "markdown",
   "id": "8c311ed9",
   "metadata": {},
   "source": [
    "Aquí tenemos una función anónima con una entrada que recibe num, y una salida que devuelve num * 2.\n",
    "\n",
    "Lo único que necesitamos hacer para utilizarla es guardarla en una variable y utilizarla tal como haríamos con una función normal:"
   ]
  },
  {
   "cell_type": "code",
   "execution_count": 5,
   "id": "218a3352",
   "metadata": {},
   "outputs": [
    {
     "data": {
      "text/plain": [
       "4"
      ]
     },
     "execution_count": 5,
     "metadata": {},
     "output_type": "execute_result"
    }
   ],
   "source": [
    "doblar = lambda num: num*2\n",
    "\n",
    "doblar(2)"
   ]
  },
  {
   "cell_type": "code",
   "execution_count": 6,
   "id": "5e5e9c80",
   "metadata": {},
   "outputs": [
    {
     "data": {
      "text/plain": [
       "'aloH'"
      ]
     },
     "execution_count": 6,
     "metadata": {},
     "output_type": "execute_result"
    }
   ],
   "source": [
    "#Con esto podemos realizar infinidad de funciones simples\n",
    "#Darle la vuelta a una cadena utilizando slicing:\n",
    "revertir = lambda cadena: cadena[::-1]\n",
    "\n",
    "revertir(\"Hola\")"
   ]
  },
  {
   "cell_type": "code",
   "execution_count": 7,
   "id": "3af19379",
   "metadata": {},
   "outputs": [
    {
     "data": {
      "text/plain": [
       "7"
      ]
     },
     "execution_count": 7,
     "metadata": {},
     "output_type": "execute_result"
    }
   ],
   "source": [
    "# enviar varios valores, por ejemplo para sumar dos números:\n",
    "sumar = lambda x,y: x+y\n",
    "\n",
    "sumar(5,2)"
   ]
  },
  {
   "cell_type": "markdown",
   "id": "f16527f3",
   "metadata": {},
   "source": [
    "A continuación veremos como explotar al máximo la función lambda utilizándola en conjunto con otras funciones como filter() y map()."
   ]
  },
  {
   "cell_type": "markdown",
   "id": "6fab7752",
   "metadata": {},
   "source": [
    "## filter ()\n",
    "Tal como su nombre indica filter significa filtrar, y es una de mis funciones favoritas, ya que a partir de una lista o iterador y una función condicional, es capaz de devolver una nueva colección con los elementos filtrados que cumplan la condición.\n",
    "\n",
    "Por ejemplo, supongamos que tenemos una lista varios números y queremos filtrarla, quedándonos únicamente con los múltiples de 5..."
   ]
  },
  {
   "cell_type": "code",
   "execution_count": 8,
   "id": "3ece7e99",
   "metadata": {},
   "outputs": [
    {
     "data": {
      "text/plain": [
       "<filter at 0x25eda89a940>"
      ]
     },
     "execution_count": 8,
     "metadata": {},
     "output_type": "execute_result"
    }
   ],
   "source": [
    "def multiple(numero):    # Primero declaramos una función condicional\n",
    "    if numero % 5 == 0:  # Comprobamos si un numero es múltiple de cinco\n",
    "        return True      # Sólo devolvemos True si lo es\n",
    "\n",
    "numeros = [2, 5, 10, 23, 50, 33]\n",
    "\n",
    "filter(multiple, numeros)"
   ]
  },
  {
   "cell_type": "markdown",
   "id": "f68311e6",
   "metadata": {},
   "source": [
    "Si ejecutamos el filtro obtenemos un objeto de tipo filtro, pero podemos transformarlo en una lista fácilmente haciendo un cast (conversión): \n",
    "\n",
    "list( filter(multiple, numeros) )\n",
    "\n",
    "Por tanto cuando utilizamos la función filter() tenemos que enviar una función condicional, pero como recordaréis, no es necesario definirla, podemos utlizar una función anónima lambda:\n"
   ]
  },
  {
   "cell_type": "code",
   "execution_count": 9,
   "id": "66b47393",
   "metadata": {},
   "outputs": [
    {
     "data": {
      "text/plain": [
       "[5, 10, 50]"
      ]
     },
     "execution_count": 9,
     "metadata": {},
     "output_type": "execute_result"
    }
   ],
   "source": [
    "list( filter(lambda numero: numero%5 == 0, numeros) )"
   ]
  },
  {
   "cell_type": "markdown",
   "id": "ad7200dc",
   "metadata": {},
   "source": [
    "Sin embargo, más allá de filtrar listas con valores simples, el verdadero potencial de filter() sale a relucir cuando necesitamos filtrar varios objetos de una lista.\n",
    "\n",
    "Por ejemplo, dada una lista con varias personas, nos gustaría filtrar únicamente las que son menores de edad:"
   ]
  },
  {
   "cell_type": "code",
   "execution_count": 10,
   "id": "c459a848",
   "metadata": {},
   "outputs": [],
   "source": [
    "class Persona:\n",
    "\n",
    "    def __init__(self, nombre, edad):\n",
    "        self.nombre = nombre\n",
    "        self.edad = edad\n",
    "\n",
    "    def __str__(self):\n",
    "        return \"{} de {} años\".format(self.nombre, self.edad)\n",
    "\n",
    "\n",
    "personas = [\n",
    "    Persona(\"Juan\", 35),\n",
    "    Persona(\"Marta\", 16),\n",
    "    Persona(\"Manuel\", 78),\n",
    "    Persona(\"Eduardo\", 12)\n",
    "]"
   ]
  },
  {
   "cell_type": "code",
   "execution_count": 12,
   "id": "55a106a8",
   "metadata": {},
   "outputs": [
    {
     "name": "stdout",
     "output_type": "stream",
     "text": [
      "Marta de 16 años\n",
      "Eduardo de 12 años\n"
     ]
    }
   ],
   "source": [
    "#Para hacerlo nos vamos a servir de una función lambda, comprobando el campo edad para cada persona:\n",
    "menores = filter(lambda persona: persona.edad < 18, personas)\n",
    "\n",
    "for menor in menores:\n",
    "    print(menor)"
   ]
  },
  {
   "cell_type": "markdown",
   "id": "0cbef265",
   "metadata": {},
   "source": [
    "## Función MAP\n",
    "Esta función trabaja de una forma muy similar a filter(), con la diferencia que en lugar de aplicar una condición a un elemento de una lista o secuencia, aplica una función sobre todos los elementos y como resultado se devuelve un iterable de tipo map:"
   ]
  },
  {
   "cell_type": "code",
   "execution_count": 13,
   "id": "a5b17b12",
   "metadata": {},
   "outputs": [
    {
     "data": {
      "text/plain": [
       "<map at 0x25eda9879d0>"
      ]
     },
     "execution_count": 13,
     "metadata": {},
     "output_type": "execute_result"
    }
   ],
   "source": [
    "def doblar(numero):\n",
    "    return numero*2\n",
    "\n",
    "numeros = [2, 5, 10, 23, 50, 33]\n",
    "\n",
    "map(doblar, numeros)\n"
   ]
  },
  {
   "cell_type": "code",
   "execution_count": 14,
   "id": "df0faac5",
   "metadata": {},
   "outputs": [
    {
     "data": {
      "text/plain": [
       "[4, 10, 20, 46, 100, 66]"
      ]
     },
     "execution_count": 14,
     "metadata": {},
     "output_type": "execute_result"
    }
   ],
   "source": [
    "list(map(doblar, numeros))"
   ]
  },
  {
   "cell_type": "code",
   "execution_count": 15,
   "id": "8b27370d",
   "metadata": {},
   "outputs": [
    {
     "data": {
      "text/plain": [
       "[4, 10, 20, 46, 100, 66]"
      ]
     },
     "execution_count": 15,
     "metadata": {},
     "output_type": "execute_result"
    }
   ],
   "source": [
    "list( map(lambda x: x*2, numeros) )"
   ]
  },
  {
   "cell_type": "code",
   "execution_count": 16,
   "id": "6d770114",
   "metadata": {},
   "outputs": [
    {
     "data": {
      "text/plain": [
       "[6, 14, 24, 36, 50]"
      ]
     },
     "execution_count": 16,
     "metadata": {},
     "output_type": "execute_result"
    }
   ],
   "source": [
    "#Por ejemplo si queremos multiplicar los números de dos listas: Solo sirve cuando tienen la misma longitud\n",
    "#Se puede a extender a 3 listas o más, siempre que TENGAN LA MISMA LONGITUD.\n",
    "a = [1, 2, 3, 4, 5]\n",
    "b = [6, 7, 8, 9, 10]\n",
    "\n",
    "list( map(lambda x,y : x*y, a,b) )"
   ]
  },
  {
   "cell_type": "markdown",
   "id": "d973f330",
   "metadata": {},
   "source": [
    "Mapeando objetos: \n",
    "Evidentemente, siempre que la utilicemos correctamente podemos mapear una serie de objetos sin ningún problema:"
   ]
  },
  {
   "cell_type": "code",
   "execution_count": 18,
   "id": "9077a22e",
   "metadata": {},
   "outputs": [],
   "source": [
    "class Persona:\n",
    "\n",
    "    def __init__(self, nombre, edad):\n",
    "        self.nombre = nombre\n",
    "        self.edad = edad\n",
    "\n",
    "    def __str__(self):\n",
    "        return \"{} de {} años\".format(self.nombre, self.edad)\n",
    "\n",
    "\n",
    "personas = [\n",
    "    Persona(\"Juan\", 35),\n",
    "    Persona(\"Marta\", 16),\n",
    "    Persona(\"Manuel\", 78),\n",
    "    Persona(\"Eduardo\", 12)\n",
    "]\n"
   ]
  },
  {
   "cell_type": "code",
   "execution_count": 19,
   "id": "ab13fcf1",
   "metadata": {},
   "outputs": [
    {
     "name": "stdout",
     "output_type": "stream",
     "text": [
      "Juan de 36 años\n",
      "Marta de 17 años\n",
      "Manuel de 79 años\n",
      "Eduardo de 13 años\n"
     ]
    }
   ],
   "source": [
    "def incrementar(p):\n",
    "    p.edad += 1\n",
    "    return p\n",
    "\n",
    "personas = map(incrementar, personas)\n",
    "\n",
    "for persona in personas:\n",
    "    print(persona)"
   ]
  },
  {
   "cell_type": "code",
   "execution_count": 1,
   "id": "3ab695d7",
   "metadata": {},
   "outputs": [
    {
     "ename": "NameError",
     "evalue": "name 'Persona' is not defined",
     "output_type": "error",
     "traceback": [
      "\u001b[1;31m---------------------------------------------------------------------------\u001b[0m",
      "\u001b[1;31mNameError\u001b[0m                                 Traceback (most recent call last)",
      "\u001b[1;32m<ipython-input-1-fa7174b5fd0b>\u001b[0m in \u001b[0;36m<module>\u001b[1;34m\u001b[0m\n\u001b[0;32m      1\u001b[0m \u001b[1;31m#Entonces como utilizariamos la función lambda con objetos?\u001b[0m\u001b[1;33m\u001b[0m\u001b[1;33m\u001b[0m\u001b[1;33m\u001b[0m\u001b[0m\n\u001b[0;32m      2\u001b[0m personas = [\n\u001b[1;32m----> 3\u001b[1;33m     \u001b[0mPersona\u001b[0m\u001b[1;33m(\u001b[0m\u001b[1;34m\"Juan\"\u001b[0m\u001b[1;33m,\u001b[0m \u001b[1;36m35\u001b[0m\u001b[1;33m)\u001b[0m\u001b[1;33m,\u001b[0m\u001b[1;33m\u001b[0m\u001b[1;33m\u001b[0m\u001b[0m\n\u001b[0m\u001b[0;32m      4\u001b[0m     \u001b[0mPersona\u001b[0m\u001b[1;33m(\u001b[0m\u001b[1;34m\"Marta\"\u001b[0m\u001b[1;33m,\u001b[0m \u001b[1;36m16\u001b[0m\u001b[1;33m)\u001b[0m\u001b[1;33m,\u001b[0m\u001b[1;33m\u001b[0m\u001b[1;33m\u001b[0m\u001b[0m\n\u001b[0;32m      5\u001b[0m     \u001b[0mPersona\u001b[0m\u001b[1;33m(\u001b[0m\u001b[1;34m\"Manuel\"\u001b[0m\u001b[1;33m,\u001b[0m \u001b[1;36m78\u001b[0m\u001b[1;33m)\u001b[0m\u001b[1;33m,\u001b[0m\u001b[1;33m\u001b[0m\u001b[1;33m\u001b[0m\u001b[0m\n",
      "\u001b[1;31mNameError\u001b[0m: name 'Persona' is not defined"
     ]
    }
   ],
   "source": [
    "#Entonces como utilizariamos la función lambda con objetos?\n",
    "personas = [\n",
    "    Persona(\"Juan\", 35),\n",
    "    Persona(\"Marta\", 16),\n",
    "    Persona(\"Manuel\", 78),\n",
    "    Persona(\"Eduardo\", 12)\n",
    "]\n",
    "\n",
    "personas = map(lambda p: Persona(p.nombre, p.edad+1), personas) #Para que funcione, en el lambda creamos una persona de nuevo\n",
    "#y le estamos dando los valores de personas y sumándole 1 a la edad."
   ]
  },
  {
   "cell_type": "code",
   "execution_count": 33,
   "id": "7e5e0a4c",
   "metadata": {},
   "outputs": [
    {
     "name": "stdout",
     "output_type": "stream",
     "text": [
      "5\n",
      "1\n",
      "2\n",
      "Fizz\n",
      "4\n",
      "Buzz\n",
      "Fizz\n",
      "7\n",
      "8\n",
      "Fizz\n",
      "Buzz\n",
      "11\n",
      "Fizz\n",
      "13\n",
      "14\n",
      "FizzBuzz\n",
      "Fizz\n"
     ]
    }
   ],
   "source": [
    "def fizzBuzz(n):\n",
    "    # Write your code here\n",
    "    for i in range(1,16):\n",
    "        if i %5 == 0 and i %3 == 0:\n",
    "            print(\"FizzBuzz\")\n",
    "        if i %3 == 0:\n",
    "            print(\"Fizz\")\n",
    "        if i %5 == 0 and i %3 != 0:\n",
    "            print(\"Buzz\")\n",
    "        if i %3 != 0 and i %5 != 0:\n",
    "            print(i)\n",
    "        if i == 16:\n",
    "            (\"que coño dices\")\n",
    "\n",
    "if __name__ == '__main__':\n",
    "    n = int(input().strip())\n",
    "\n",
    "    fizzBuzz(n)\n"
   ]
  },
  {
   "cell_type": "code",
   "execution_count": 9,
   "id": "8a733b3a",
   "metadata": {},
   "outputs": [
    {
     "data": {
      "text/plain": [
       "<generator object cuadrados at 0x000001EAA9E40F20>"
      ]
     },
     "execution_count": 9,
     "metadata": {},
     "output_type": "execute_result"
    }
   ],
   "source": []
  },
  {
   "cell_type": "markdown",
   "id": "004645da",
   "metadata": {},
   "source": [
    "# Python con línea de comandos\n"
   ]
  },
  {
   "cell_type": "code",
   "execution_count": null,
   "id": "2924db92",
   "metadata": {},
   "outputs": [],
   "source": [
    "python NombreARCHIVO.py para ejecutarlo\n",
    "python NombreArchivo.py >> archivo.txt #Esto lo que hace es guardar en archivo.txt el resultado de la ejecución del programa (\n",
    "# si no existe el archivo lo crea.)"
   ]
  }
 ],
 "metadata": {
  "kernelspec": {
   "display_name": "Python 3",
   "language": "python",
   "name": "python3"
  },
  "language_info": {
   "codemirror_mode": {
    "name": "ipython",
    "version": 3
   },
   "file_extension": ".py",
   "mimetype": "text/x-python",
   "name": "python",
   "nbconvert_exporter": "python",
   "pygments_lexer": "ipython3",
   "version": "3.9.1"
  }
 },
 "nbformat": 4,
 "nbformat_minor": 5
}
